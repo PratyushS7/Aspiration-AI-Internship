{
 "cells": [
  {
   "cell_type": "markdown",
   "metadata": {},
   "source": [
    "# 5.1"
   ]
  },
  {
   "cell_type": "code",
   "execution_count": 1,
   "metadata": {},
   "outputs": [],
   "source": [
    "import pandas as pd\n",
    "import matplotlib.pyplot as plt\n",
    "import numpy as np\n",
    "import seaborn as sns\n",
    "from matplotlib.pyplot import figure"
   ]
  },
  {
   "cell_type": "code",
   "execution_count": 2,
   "metadata": {},
   "outputs": [
    {
     "data": {
      "text/html": [
       "<div>\n",
       "<style scoped>\n",
       "    .dataframe tbody tr th:only-of-type {\n",
       "        vertical-align: middle;\n",
       "    }\n",
       "\n",
       "    .dataframe tbody tr th {\n",
       "        vertical-align: top;\n",
       "    }\n",
       "\n",
       "    .dataframe thead th {\n",
       "        text-align: right;\n",
       "    }\n",
       "</style>\n",
       "<table border=\"1\" class=\"dataframe\">\n",
       "  <thead>\n",
       "    <tr style=\"text-align: right;\">\n",
       "      <th></th>\n",
       "      <th>Symbol</th>\n",
       "      <th>Series</th>\n",
       "      <th>Date</th>\n",
       "      <th>Prev Close</th>\n",
       "      <th>Open Price</th>\n",
       "      <th>High Price</th>\n",
       "      <th>Low Price</th>\n",
       "      <th>Last Price</th>\n",
       "      <th>Close Price</th>\n",
       "      <th>Average Price</th>\n",
       "      <th>Total Traded Quantity</th>\n",
       "      <th>Turnover</th>\n",
       "      <th>No. of Trades</th>\n",
       "      <th>Deliverable Qty</th>\n",
       "      <th>% Dly Qt to Traded Qty</th>\n",
       "    </tr>\n",
       "  </thead>\n",
       "  <tbody>\n",
       "    <tr>\n",
       "      <th>0</th>\n",
       "      <td>EICHERMOT</td>\n",
       "      <td>EQ</td>\n",
       "      <td>15-May-2017</td>\n",
       "      <td>29178.35</td>\n",
       "      <td>29403.10</td>\n",
       "      <td>29455.00</td>\n",
       "      <td>28831.00</td>\n",
       "      <td>28915.05</td>\n",
       "      <td>28930.60</td>\n",
       "      <td>29015.64</td>\n",
       "      <td>20026</td>\n",
       "      <td>5.810673e+08</td>\n",
       "      <td>8495</td>\n",
       "      <td>8193</td>\n",
       "      <td>40.91</td>\n",
       "    </tr>\n",
       "    <tr>\n",
       "      <th>1</th>\n",
       "      <td>EICHERMOT</td>\n",
       "      <td>EQ</td>\n",
       "      <td>16-May-2017</td>\n",
       "      <td>28930.60</td>\n",
       "      <td>28920.45</td>\n",
       "      <td>29450.00</td>\n",
       "      <td>28820.00</td>\n",
       "      <td>29365.95</td>\n",
       "      <td>29362.50</td>\n",
       "      <td>29107.91</td>\n",
       "      <td>36189</td>\n",
       "      <td>1.053386e+09</td>\n",
       "      <td>11584</td>\n",
       "      <td>16359</td>\n",
       "      <td>45.20</td>\n",
       "    </tr>\n",
       "    <tr>\n",
       "      <th>2</th>\n",
       "      <td>EICHERMOT</td>\n",
       "      <td>EQ</td>\n",
       "      <td>17-May-2017</td>\n",
       "      <td>29362.50</td>\n",
       "      <td>29262.00</td>\n",
       "      <td>29300.00</td>\n",
       "      <td>28971.35</td>\n",
       "      <td>28982.05</td>\n",
       "      <td>29093.55</td>\n",
       "      <td>29116.26</td>\n",
       "      <td>18545</td>\n",
       "      <td>5.399610e+08</td>\n",
       "      <td>7918</td>\n",
       "      <td>10611</td>\n",
       "      <td>57.22</td>\n",
       "    </tr>\n",
       "    <tr>\n",
       "      <th>3</th>\n",
       "      <td>EICHERMOT</td>\n",
       "      <td>EQ</td>\n",
       "      <td>18-May-2017</td>\n",
       "      <td>29093.55</td>\n",
       "      <td>28900.00</td>\n",
       "      <td>28998.85</td>\n",
       "      <td>28213.00</td>\n",
       "      <td>28213.00</td>\n",
       "      <td>28357.30</td>\n",
       "      <td>28521.49</td>\n",
       "      <td>30153</td>\n",
       "      <td>8.600085e+08</td>\n",
       "      <td>11283</td>\n",
       "      <td>15761</td>\n",
       "      <td>52.27</td>\n",
       "    </tr>\n",
       "    <tr>\n",
       "      <th>4</th>\n",
       "      <td>EICHERMOT</td>\n",
       "      <td>EQ</td>\n",
       "      <td>19-May-2017</td>\n",
       "      <td>28357.30</td>\n",
       "      <td>28698.00</td>\n",
       "      <td>28698.00</td>\n",
       "      <td>27756.00</td>\n",
       "      <td>27915.00</td>\n",
       "      <td>27936.05</td>\n",
       "      <td>28024.04</td>\n",
       "      <td>44251</td>\n",
       "      <td>1.240092e+09</td>\n",
       "      <td>21721</td>\n",
       "      <td>20153</td>\n",
       "      <td>45.54</td>\n",
       "    </tr>\n",
       "  </tbody>\n",
       "</table>\n",
       "</div>"
      ],
      "text/plain": [
       "      Symbol Series         Date  Prev Close  Open Price  High Price  \\\n",
       "0  EICHERMOT     EQ  15-May-2017    29178.35    29403.10    29455.00   \n",
       "1  EICHERMOT     EQ  16-May-2017    28930.60    28920.45    29450.00   \n",
       "2  EICHERMOT     EQ  17-May-2017    29362.50    29262.00    29300.00   \n",
       "3  EICHERMOT     EQ  18-May-2017    29093.55    28900.00    28998.85   \n",
       "4  EICHERMOT     EQ  19-May-2017    28357.30    28698.00    28698.00   \n",
       "\n",
       "   Low Price  Last Price  Close Price  Average Price  Total Traded Quantity  \\\n",
       "0   28831.00    28915.05     28930.60       29015.64                  20026   \n",
       "1   28820.00    29365.95     29362.50       29107.91                  36189   \n",
       "2   28971.35    28982.05     29093.55       29116.26                  18545   \n",
       "3   28213.00    28213.00     28357.30       28521.49                  30153   \n",
       "4   27756.00    27915.00     27936.05       28024.04                  44251   \n",
       "\n",
       "       Turnover  No. of Trades  Deliverable Qty  % Dly Qt to Traded Qty  \n",
       "0  5.810673e+08           8495             8193                   40.91  \n",
       "1  1.053386e+09          11584            16359                   45.20  \n",
       "2  5.399610e+08           7918            10611                   57.22  \n",
       "3  8.600085e+08          11283            15761                   52.27  \n",
       "4  1.240092e+09          21721            20153                   45.54  "
      ]
     },
     "execution_count": 2,
     "metadata": {},
     "output_type": "execute_result"
    }
   ],
   "source": [
    "df = pd.read_csv('EICHERMOT.CSV')\n",
    "\n",
    "df = df[df.Series=='EQ']\n",
    "df = df.reset_index()\n",
    "df = df.drop(columns='index')\n",
    "\n",
    "df.head()"
   ]
  },
  {
   "cell_type": "markdown",
   "metadata": {},
   "source": [
    "Calculating the mean daily return of the stock"
   ]
  },
  {
   "cell_type": "code",
   "execution_count": 3,
   "metadata": {},
   "outputs": [
    {
     "data": {
      "text/plain": [
       "-0.0007003338366123908"
      ]
     },
     "execution_count": 3,
     "metadata": {},
     "output_type": "execute_result"
    }
   ],
   "source": [
    "rd = pd.Series(df['Close Price']).pct_change()\n",
    "mdr = rd.mean()\n",
    "mdr"
   ]
  },
  {
   "cell_type": "markdown",
   "metadata": {},
   "source": [
    "Calculating the standard deviation of the percentage change of returns"
   ]
  },
  {
   "cell_type": "code",
   "execution_count": 4,
   "metadata": {},
   "outputs": [
    {
     "data": {
      "text/plain": [
       "0.018909798917251183"
      ]
     },
     "execution_count": 4,
     "metadata": {},
     "output_type": "execute_result"
    }
   ],
   "source": [
    "rst= rd.std()\n",
    "rst"
   ]
  },
  {
   "cell_type": "markdown",
   "metadata": {},
   "source": [
    "The annual mean and annual std return"
   ]
  },
  {
   "cell_type": "code",
   "execution_count": 5,
   "metadata": {},
   "outputs": [],
   "source": [
    "am = 252*mdr\n",
    "astd = (252**0.5) * rst"
   ]
  },
  {
   "cell_type": "markdown",
   "metadata": {},
   "source": [
    "# 5.2"
   ]
  },
  {
   "cell_type": "code",
   "execution_count": 6,
   "metadata": {},
   "outputs": [],
   "source": [
    "dfl = []\n",
    "\n",
    "dfl.append(pd.read_csv('Mid_Cap\\APOLLOTYRE.csv'))\n",
    "dfl.append(pd.read_csv('Mid_Cap\\CASTROLIND.csv'))\n",
    "dfl.append(pd.read_csv('Mid_Cap\\AMARAJABAT.csv'))\n",
    "dfl.append(pd.read_csv('Mid_Cap\\TATAPOWER.csv'))\n",
    "dfl.append(pd.read_csv('Mid_Cap\\EXIDEIND.csv'))"
   ]
  },
  {
   "cell_type": "code",
   "execution_count": 7,
   "metadata": {},
   "outputs": [],
   "source": [
    "for i in range(0,5):\n",
    "    dfl[i] = dfl[i][dfl[i].Series=='EQ']"
   ]
  },
  {
   "cell_type": "code",
   "execution_count": 8,
   "metadata": {},
   "outputs": [],
   "source": [
    "for i in range(0,5):\n",
    "    dfl[i] = dfl[i].reset_index()\n",
    "    dfl[i] = dfl[i].drop(columns='index')"
   ]
  },
  {
   "cell_type": "markdown",
   "metadata": {},
   "source": [
    "We've created a list of dataframes of 5 different stocks using which we will build our portfolio.\n",
    "\n",
    "S will contain the percentage changes of the closing price of the stocks we took above"
   ]
  },
  {
   "cell_type": "code",
   "execution_count": 9,
   "metadata": {},
   "outputs": [
    {
     "data": {
      "text/plain": [
       "array([[ 0.01078051, -0.0152273 , -0.00932076,  0.00359066, -0.00447518],\n",
       "       [ 0.01258532, -0.00778781,  0.01405861,  0.01788909, -0.00612996],\n",
       "       [-0.01980198, -0.0127403 , -0.02730084, -0.01874634, -0.01377467],\n",
       "       ...,\n",
       "       [-0.03363755, -0.02101401, -0.00070755, -0.00155039,  0.00695944],\n",
       "       [ 0.0304911 , -0.00170358, -0.00102274, -0.00931677,  0.00190658],\n",
       "       [-0.02487562, -0.01433447, -0.01425421, -0.01880878, -0.0114177 ]])"
      ]
     },
     "execution_count": 9,
     "metadata": {},
     "output_type": "execute_result"
    }
   ],
   "source": [
    "S = np.zeros((len(df),5)) \n",
    "\n",
    "for i in range(0,5):\n",
    "    S[:,i] = pd.Series(dfl[i]['Close Price']).pct_change()\n",
    "S = np.delete(S, (0), axis=0)\n",
    "\n",
    "S"
   ]
  },
  {
   "cell_type": "markdown",
   "metadata": {},
   "source": [
    "M will store the means of the values computed above for all stocks"
   ]
  },
  {
   "cell_type": "code",
   "execution_count": 10,
   "metadata": {},
   "outputs": [
    {
     "data": {
      "text/plain": [
       "array([-0.00025517, -0.00175352, -0.00066926, -0.00039906, -0.0002043 ])"
      ]
     },
     "execution_count": 10,
     "metadata": {},
     "output_type": "execute_result"
    }
   ],
   "source": [
    "M = np.zeros(5)\n",
    "for i in range(0,5):\n",
    "    M[i]=S[:,i].mean()\n",
    "M"
   ]
  },
  {
   "cell_type": "markdown",
   "metadata": {},
   "source": [
    "Demeaning the prices"
   ]
  },
  {
   "cell_type": "code",
   "execution_count": 11,
   "metadata": {},
   "outputs": [],
   "source": [
    "S = S-M"
   ]
  },
  {
   "cell_type": "markdown",
   "metadata": {},
   "source": [
    "Taking the transpose of the above matrix"
   ]
  },
  {
   "cell_type": "code",
   "execution_count": 12,
   "metadata": {},
   "outputs": [],
   "source": [
    "ST= S.T"
   ]
  },
  {
   "cell_type": "markdown",
   "metadata": {},
   "source": [
    "This is our covariance matrix"
   ]
  },
  {
   "cell_type": "code",
   "execution_count": 13,
   "metadata": {},
   "outputs": [],
   "source": [
    "C = ST.dot(S)"
   ]
  },
  {
   "cell_type": "markdown",
   "metadata": {},
   "source": [
    "Creating a weight distribution matrix W with all the stocks having equal weight(0.2)"
   ]
  },
  {
   "cell_type": "code",
   "execution_count": 14,
   "metadata": {},
   "outputs": [],
   "source": [
    "W = np.zeros(5)\n",
    "for i in range(0,5):\n",
    "    W[i]=0.2"
   ]
  },
  {
   "cell_type": "markdown",
   "metadata": {},
   "source": [
    "Expected portfolio return"
   ]
  },
  {
   "cell_type": "code",
   "execution_count": 15,
   "metadata": {},
   "outputs": [
    {
     "data": {
      "text/plain": [
       "-0.0006562625255936058"
      ]
     },
     "execution_count": 15,
     "metadata": {},
     "output_type": "execute_result"
    }
   ],
   "source": [
    "EPR = M.dot(W)\n",
    "EPR"
   ]
  },
  {
   "cell_type": "markdown",
   "metadata": {},
   "source": [
    "Expected portfolio variance"
   ]
  },
  {
   "cell_type": "code",
   "execution_count": 16,
   "metadata": {},
   "outputs": [
    {
     "data": {
      "text/plain": [
       "0.0805130297109696"
      ]
     },
     "execution_count": 16,
     "metadata": {},
     "output_type": "execute_result"
    }
   ],
   "source": [
    "EPV = (W.T).dot(C).dot(W)\n",
    "EPV"
   ]
  },
  {
   "cell_type": "markdown",
   "metadata": {},
   "source": [
    "### Volatilty of the portfolio is as shown below"
   ]
  },
  {
   "cell_type": "code",
   "execution_count": 17,
   "metadata": {
    "scrolled": true
   },
   "outputs": [
    {
     "data": {
      "text/plain": [
       "0.28374818010159925"
      ]
     },
     "execution_count": 17,
     "metadata": {},
     "output_type": "execute_result"
    }
   ],
   "source": [
    "volatility = EPV**0.5\n",
    "volatility"
   ]
  },
  {
   "cell_type": "markdown",
   "metadata": {},
   "source": [
    "Now the weights have to be random so we will generate about 2000 random numbers (they will be having a sum across the row to be 1 since the total weight is 1)"
   ]
  },
  {
   "cell_type": "code",
   "execution_count": 18,
   "metadata": {},
   "outputs": [],
   "source": [
    "np.random.seed(0)\n",
    "\n",
    "n = 5\n",
    "# Randomize a Numpy Array with 500 x n array\n",
    "rand_nos = np.random.rand(2000, n)"
   ]
  },
  {
   "cell_type": "code",
   "execution_count": 19,
   "metadata": {},
   "outputs": [],
   "source": [
    "sumrow = np.sum(rand_nos,axis=1)"
   ]
  },
  {
   "cell_type": "markdown",
   "metadata": {},
   "source": [
    "Wr will contain the list of random weights of each stock"
   ]
  },
  {
   "cell_type": "code",
   "execution_count": 20,
   "metadata": {},
   "outputs": [],
   "source": [
    "Wr = (2000,5)\n",
    "Wr=np.zeros(Wr)\n",
    "for j in range(0,len(rand_nos)):\n",
    "    for i in range(0,5):\n",
    "        Wr[j][i]=rand_nos[j][i]/sumrow[j]"
   ]
  },
  {
   "cell_type": "markdown",
   "metadata": {},
   "source": [
    "Creating the correspondin lists of Expected returns and variances of the stock"
   ]
  },
  {
   "cell_type": "code",
   "execution_count": 21,
   "metadata": {},
   "outputs": [],
   "source": [
    "EPRn = []\n",
    "EPVn= []\n",
    "for i in range(0,len(rand_nos)):\n",
    "    EPRn.append(M.dot(Wr[i])*100)\n",
    "    EPVn.append(((Wr[i].T).dot(C).dot(Wr[i]))**0.5)"
   ]
  },
  {
   "cell_type": "markdown",
   "metadata": {},
   "source": [
    "A scatter plot for the list of values we obtained above. \n",
    "Two points are denoted in the plot:\n",
    "\n",
    "Red marker - denotes the point of higest volatility\n",
    "\n",
    "Yellow marker - denotes the where the Sharpe ratio is the highest"
   ]
  },
  {
   "cell_type": "code",
   "execution_count": 22,
   "metadata": {},
   "outputs": [
    {
     "data": {
      "image/png": "[encoded data removed]",
      "text/plain": [
       "<Figure size 864x576 with 2 Axes>"
      ]
     },
     "metadata": {
      "needs_background": "light"
     },
     "output_type": "display_data"
    }
   ],
   "source": [
    "figure(figsize=(12, 8))\n",
    "\n",
    "\n",
    "ax = plt.scatter(EPVn,EPRn,c=EPRn, cmap=\"RdYlBu\", s=25)\n",
    "plt.colorbar(ax)\n",
    "\n",
    "plt.plot(EPVn[np.argmax(EPRn)],max(EPRn), '*',markersize=20, markerfacecolor='red')\n",
    "plt.plot(min(EPVn),EPRn[np.argmin(EPVn)], '*',markersize=20, markerfacecolor='yellow',linewidth=2)\n",
    "\n",
    "plt.xlabel(\"Volatility\")\n",
    "plt.ylabel(\"Returns\")\n",
    "\n",
    "plt.show()"
   ]
  }
 ],
 "metadata": {
  "kernelspec": {
   "display_name": "Python 3",
   "language": "python",
   "name": "python3"
  },
  "language_info": {
   "codemirror_mode": {
    "name": "ipython",
    "version": 3
   },
   "file_extension": ".py",
   "mimetype": "text/x-python",
   "name": "python",
   "nbconvert_exporter": "python",
   "pygments_lexer": "ipython3",
   "version": "3.8.1"
  }
 },
 "nbformat": 4,
 "nbformat_minor": 4
}
