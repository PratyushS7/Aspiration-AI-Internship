{
 "cells": [
  {
   "cell_type": "markdown",
   "metadata": {},
   "source": [
    "# 4.1"
   ]
  },
  {
   "cell_type": "code",
   "execution_count": 1,
   "metadata": {},
   "outputs": [],
   "source": [
    "import pandas as pd\n",
    "import numpy as np\n",
    "import matplotlib.pyplot as plt\n",
    "from sklearn.metrics import accuracy_score"
   ]
  },
  {
   "cell_type": "markdown",
   "metadata": {},
   "source": [
    "Reading the bollinger.csv file into the dataframe"
   ]
  },
  {
   "cell_type": "code",
   "execution_count": 2,
   "metadata": {},
   "outputs": [
    {
     "data": {
      "text/html": [
       "<div>\n",
       "<style scoped>\n",
       "    .dataframe tbody tr th:only-of-type {\n",
       "        vertical-align: middle;\n",
       "    }\n",
       "\n",
       "    .dataframe tbody tr th {\n",
       "        vertical-align: top;\n",
       "    }\n",
       "\n",
       "    .dataframe thead th {\n",
       "        text-align: right;\n",
       "    }\n",
       "</style>\n",
       "<table border=\"1\" class=\"dataframe\">\n",
       "  <thead>\n",
       "    <tr style=\"text-align: right;\">\n",
       "      <th></th>\n",
       "      <th>ExideCP</th>\n",
       "      <th>ExideStd</th>\n",
       "      <th>ADSP</th>\n",
       "      <th>Exideup</th>\n",
       "      <th>Exidelw</th>\n",
       "    </tr>\n",
       "  </thead>\n",
       "  <tbody>\n",
       "    <tr>\n",
       "      <th>0</th>\n",
       "      <td>233.353571</td>\n",
       "      <td>7.576697</td>\n",
       "      <td>229.09</td>\n",
       "      <td>248.506965</td>\n",
       "      <td>218.200178</td>\n",
       "    </tr>\n",
       "    <tr>\n",
       "      <th>1</th>\n",
       "      <td>232.025000</td>\n",
       "      <td>6.819225</td>\n",
       "      <td>228.52</td>\n",
       "      <td>245.663450</td>\n",
       "      <td>218.386550</td>\n",
       "    </tr>\n",
       "    <tr>\n",
       "      <th>2</th>\n",
       "      <td>230.789286</td>\n",
       "      <td>5.843345</td>\n",
       "      <td>227.90</td>\n",
       "      <td>242.475976</td>\n",
       "      <td>219.102595</td>\n",
       "    </tr>\n",
       "    <tr>\n",
       "      <th>3</th>\n",
       "      <td>229.414286</td>\n",
       "      <td>4.884529</td>\n",
       "      <td>225.70</td>\n",
       "      <td>239.183344</td>\n",
       "      <td>219.645227</td>\n",
       "    </tr>\n",
       "    <tr>\n",
       "      <th>4</th>\n",
       "      <td>228.250000</td>\n",
       "      <td>4.082514</td>\n",
       "      <td>223.95</td>\n",
       "      <td>236.415029</td>\n",
       "      <td>220.084971</td>\n",
       "    </tr>\n",
       "  </tbody>\n",
       "</table>\n",
       "</div>"
      ],
      "text/plain": [
       "      ExideCP  ExideStd    ADSP     Exideup     Exidelw\n",
       "0  233.353571  7.576697  229.09  248.506965  218.200178\n",
       "1  232.025000  6.819225  228.52  245.663450  218.386550\n",
       "2  230.789286  5.843345  227.90  242.475976  219.102595\n",
       "3  229.414286  4.884529  225.70  239.183344  219.645227\n",
       "4  228.250000  4.082514  223.95  236.415029  220.084971"
      ]
     },
     "execution_count": 2,
     "metadata": {},
     "output_type": "execute_result"
    }
   ],
   "source": [
    "df = pd.read_csv('bollinger.csv')\n",
    "df = df.drop(columns=['Unnamed: 0'])\n",
    "\n",
    "df.head()"
   ]
  },
  {
   "cell_type": "code",
   "execution_count": 3,
   "metadata": {},
   "outputs": [
    {
     "data": {
      "text/html": [
       "<div>\n",
       "<style scoped>\n",
       "    .dataframe tbody tr th:only-of-type {\n",
       "        vertical-align: middle;\n",
       "    }\n",
       "\n",
       "    .dataframe tbody tr th {\n",
       "        vertical-align: top;\n",
       "    }\n",
       "\n",
       "    .dataframe thead th {\n",
       "        text-align: right;\n",
       "    }\n",
       "</style>\n",
       "<table border=\"1\" class=\"dataframe\">\n",
       "  <thead>\n",
       "    <tr style=\"text-align: right;\">\n",
       "      <th></th>\n",
       "      <th>Symbol</th>\n",
       "      <th>Series</th>\n",
       "      <th>Date</th>\n",
       "      <th>Prev Close</th>\n",
       "      <th>Open Price</th>\n",
       "      <th>High Price</th>\n",
       "      <th>Low Price</th>\n",
       "      <th>Last Price</th>\n",
       "      <th>Close Price</th>\n",
       "      <th>Average Price</th>\n",
       "      <th>Total Traded Quantity</th>\n",
       "      <th>Turnover</th>\n",
       "      <th>No. of Trades</th>\n",
       "      <th>Deliverable Qty</th>\n",
       "      <th>% Dly Qt to Traded Qty</th>\n",
       "    </tr>\n",
       "  </thead>\n",
       "  <tbody>\n",
       "    <tr>\n",
       "      <th>0</th>\n",
       "      <td>EXIDEIND</td>\n",
       "      <td>EQ</td>\n",
       "      <td>15-May-2017</td>\n",
       "      <td>244.85</td>\n",
       "      <td>245.35</td>\n",
       "      <td>247.25</td>\n",
       "      <td>244.20</td>\n",
       "      <td>245.5</td>\n",
       "      <td>245.80</td>\n",
       "      <td>245.63</td>\n",
       "      <td>957470</td>\n",
       "      <td>2.351829e+08</td>\n",
       "      <td>10111</td>\n",
       "      <td>370038</td>\n",
       "      <td>38.65</td>\n",
       "    </tr>\n",
       "    <tr>\n",
       "      <th>1</th>\n",
       "      <td>EXIDEIND</td>\n",
       "      <td>EQ</td>\n",
       "      <td>16-May-2017</td>\n",
       "      <td>245.80</td>\n",
       "      <td>246.40</td>\n",
       "      <td>247.80</td>\n",
       "      <td>243.05</td>\n",
       "      <td>245.7</td>\n",
       "      <td>244.70</td>\n",
       "      <td>244.73</td>\n",
       "      <td>1023539</td>\n",
       "      <td>2.504863e+08</td>\n",
       "      <td>14018</td>\n",
       "      <td>344354</td>\n",
       "      <td>33.64</td>\n",
       "    </tr>\n",
       "    <tr>\n",
       "      <th>2</th>\n",
       "      <td>EXIDEIND</td>\n",
       "      <td>EQ</td>\n",
       "      <td>17-May-2017</td>\n",
       "      <td>244.70</td>\n",
       "      <td>244.70</td>\n",
       "      <td>244.90</td>\n",
       "      <td>242.15</td>\n",
       "      <td>242.9</td>\n",
       "      <td>243.20</td>\n",
       "      <td>243.38</td>\n",
       "      <td>1145096</td>\n",
       "      <td>2.786929e+08</td>\n",
       "      <td>11088</td>\n",
       "      <td>612394</td>\n",
       "      <td>53.48</td>\n",
       "    </tr>\n",
       "    <tr>\n",
       "      <th>3</th>\n",
       "      <td>EXIDEIND</td>\n",
       "      <td>EQ</td>\n",
       "      <td>18-May-2017</td>\n",
       "      <td>243.20</td>\n",
       "      <td>242.05</td>\n",
       "      <td>242.65</td>\n",
       "      <td>237.35</td>\n",
       "      <td>240.0</td>\n",
       "      <td>239.85</td>\n",
       "      <td>239.80</td>\n",
       "      <td>970233</td>\n",
       "      <td>2.326644e+08</td>\n",
       "      <td>14371</td>\n",
       "      <td>516311</td>\n",
       "      <td>53.22</td>\n",
       "    </tr>\n",
       "    <tr>\n",
       "      <th>4</th>\n",
       "      <td>EXIDEIND</td>\n",
       "      <td>EQ</td>\n",
       "      <td>19-May-2017</td>\n",
       "      <td>239.85</td>\n",
       "      <td>240.90</td>\n",
       "      <td>244.40</td>\n",
       "      <td>233.45</td>\n",
       "      <td>238.1</td>\n",
       "      <td>238.15</td>\n",
       "      <td>239.05</td>\n",
       "      <td>2505511</td>\n",
       "      <td>5.989367e+08</td>\n",
       "      <td>18102</td>\n",
       "      <td>717386</td>\n",
       "      <td>28.63</td>\n",
       "    </tr>\n",
       "  </tbody>\n",
       "</table>\n",
       "</div>"
      ],
      "text/plain": [
       "     Symbol Series         Date  Prev Close  Open Price  High Price  \\\n",
       "0  EXIDEIND     EQ  15-May-2017      244.85      245.35      247.25   \n",
       "1  EXIDEIND     EQ  16-May-2017      245.80      246.40      247.80   \n",
       "2  EXIDEIND     EQ  17-May-2017      244.70      244.70      244.90   \n",
       "3  EXIDEIND     EQ  18-May-2017      243.20      242.05      242.65   \n",
       "4  EXIDEIND     EQ  19-May-2017      239.85      240.90      244.40   \n",
       "\n",
       "   Low Price  Last Price  Close Price  Average Price  Total Traded Quantity  \\\n",
       "0     244.20       245.5       245.80         245.63                 957470   \n",
       "1     243.05       245.7       244.70         244.73                1023539   \n",
       "2     242.15       242.9       243.20         243.38                1145096   \n",
       "3     237.35       240.0       239.85         239.80                 970233   \n",
       "4     233.45       238.1       238.15         239.05                2505511   \n",
       "\n",
       "       Turnover  No. of Trades  Deliverable Qty  % Dly Qt to Traded Qty  \n",
       "0  2.351829e+08          10111           370038                   38.65  \n",
       "1  2.504863e+08          14018           344354                   33.64  \n",
       "2  2.786929e+08          11088           612394                   53.48  \n",
       "3  2.326644e+08          14371           516311                   53.22  \n",
       "4  5.989367e+08          18102           717386                   28.63  "
      ]
     },
     "execution_count": 3,
     "metadata": {},
     "output_type": "execute_result"
    }
   ],
   "source": [
    "dfe = pd.read_csv('Mid_Cap/EXIDEIND.csv')\n",
    "dfe = dfe[dfe.Series == 'EQ']\n",
    "dfe.head()"
   ]
  },
  {
   "cell_type": "markdown",
   "metadata": {},
   "source": [
    "Some values in the bollinger data had nan columns when we calculated the 14 day rolling mean. \n",
    "\n",
    "We will remove those columns from the Exide data as well."
   ]
  },
  {
   "cell_type": "code",
   "execution_count": 4,
   "metadata": {},
   "outputs": [],
   "source": [
    "trim = len(dfe)-len(df)"
   ]
  },
  {
   "cell_type": "code",
   "execution_count": 5,
   "metadata": {},
   "outputs": [
    {
     "data": {
      "text/html": [
       "<div>\n",
       "<style scoped>\n",
       "    .dataframe tbody tr th:only-of-type {\n",
       "        vertical-align: middle;\n",
       "    }\n",
       "\n",
       "    .dataframe tbody tr th {\n",
       "        vertical-align: top;\n",
       "    }\n",
       "\n",
       "    .dataframe thead th {\n",
       "        text-align: right;\n",
       "    }\n",
       "</style>\n",
       "<table border=\"1\" class=\"dataframe\">\n",
       "  <thead>\n",
       "    <tr style=\"text-align: right;\">\n",
       "      <th></th>\n",
       "      <th>Symbol</th>\n",
       "      <th>Series</th>\n",
       "      <th>Date</th>\n",
       "      <th>Prev Close</th>\n",
       "      <th>Open Price</th>\n",
       "      <th>High Price</th>\n",
       "      <th>Low Price</th>\n",
       "      <th>Last Price</th>\n",
       "      <th>Close Price</th>\n",
       "      <th>Average Price</th>\n",
       "      <th>Total Traded Quantity</th>\n",
       "      <th>Turnover</th>\n",
       "      <th>No. of Trades</th>\n",
       "      <th>Deliverable Qty</th>\n",
       "      <th>% Dly Qt to Traded Qty</th>\n",
       "    </tr>\n",
       "  </thead>\n",
       "  <tbody>\n",
       "    <tr>\n",
       "      <th>0</th>\n",
       "      <td>EXIDEIND</td>\n",
       "      <td>EQ</td>\n",
       "      <td>01-Jun-2017</td>\n",
       "      <td>230.25</td>\n",
       "      <td>230.0</td>\n",
       "      <td>232.40</td>\n",
       "      <td>227.30</td>\n",
       "      <td>227.9</td>\n",
       "      <td>228.05</td>\n",
       "      <td>229.09</td>\n",
       "      <td>1195050</td>\n",
       "      <td>2.737682e+08</td>\n",
       "      <td>10286</td>\n",
       "      <td>485150</td>\n",
       "      <td>40.60</td>\n",
       "    </tr>\n",
       "    <tr>\n",
       "      <th>1</th>\n",
       "      <td>EXIDEIND</td>\n",
       "      <td>EQ</td>\n",
       "      <td>02-Jun-2017</td>\n",
       "      <td>228.05</td>\n",
       "      <td>228.2</td>\n",
       "      <td>231.90</td>\n",
       "      <td>225.60</td>\n",
       "      <td>227.6</td>\n",
       "      <td>227.20</td>\n",
       "      <td>228.52</td>\n",
       "      <td>1597496</td>\n",
       "      <td>3.650629e+08</td>\n",
       "      <td>14149</td>\n",
       "      <td>897742</td>\n",
       "      <td>56.20</td>\n",
       "    </tr>\n",
       "    <tr>\n",
       "      <th>2</th>\n",
       "      <td>EXIDEIND</td>\n",
       "      <td>EQ</td>\n",
       "      <td>05-Jun-2017</td>\n",
       "      <td>227.20</td>\n",
       "      <td>227.4</td>\n",
       "      <td>229.80</td>\n",
       "      <td>226.95</td>\n",
       "      <td>227.8</td>\n",
       "      <td>227.40</td>\n",
       "      <td>227.90</td>\n",
       "      <td>921399</td>\n",
       "      <td>2.099899e+08</td>\n",
       "      <td>6509</td>\n",
       "      <td>587515</td>\n",
       "      <td>63.76</td>\n",
       "    </tr>\n",
       "    <tr>\n",
       "      <th>3</th>\n",
       "      <td>EXIDEIND</td>\n",
       "      <td>EQ</td>\n",
       "      <td>06-Jun-2017</td>\n",
       "      <td>227.40</td>\n",
       "      <td>227.7</td>\n",
       "      <td>230.85</td>\n",
       "      <td>222.45</td>\n",
       "      <td>224.2</td>\n",
       "      <td>223.95</td>\n",
       "      <td>225.70</td>\n",
       "      <td>1218624</td>\n",
       "      <td>2.750426e+08</td>\n",
       "      <td>12557</td>\n",
       "      <td>420197</td>\n",
       "      <td>34.48</td>\n",
       "    </tr>\n",
       "    <tr>\n",
       "      <th>4</th>\n",
       "      <td>EXIDEIND</td>\n",
       "      <td>EQ</td>\n",
       "      <td>07-Jun-2017</td>\n",
       "      <td>223.95</td>\n",
       "      <td>224.4</td>\n",
       "      <td>226.55</td>\n",
       "      <td>222.60</td>\n",
       "      <td>224.4</td>\n",
       "      <td>223.55</td>\n",
       "      <td>223.95</td>\n",
       "      <td>929561</td>\n",
       "      <td>2.081767e+08</td>\n",
       "      <td>9106</td>\n",
       "      <td>534291</td>\n",
       "      <td>57.48</td>\n",
       "    </tr>\n",
       "  </tbody>\n",
       "</table>\n",
       "</div>"
      ],
      "text/plain": [
       "     Symbol Series         Date  Prev Close  Open Price  High Price  \\\n",
       "0  EXIDEIND     EQ  01-Jun-2017      230.25       230.0      232.40   \n",
       "1  EXIDEIND     EQ  02-Jun-2017      228.05       228.2      231.90   \n",
       "2  EXIDEIND     EQ  05-Jun-2017      227.20       227.4      229.80   \n",
       "3  EXIDEIND     EQ  06-Jun-2017      227.40       227.7      230.85   \n",
       "4  EXIDEIND     EQ  07-Jun-2017      223.95       224.4      226.55   \n",
       "\n",
       "   Low Price  Last Price  Close Price  Average Price  Total Traded Quantity  \\\n",
       "0     227.30       227.9       228.05         229.09                1195050   \n",
       "1     225.60       227.6       227.20         228.52                1597496   \n",
       "2     226.95       227.8       227.40         227.90                 921399   \n",
       "3     222.45       224.2       223.95         225.70                1218624   \n",
       "4     222.60       224.4       223.55         223.95                 929561   \n",
       "\n",
       "       Turnover  No. of Trades  Deliverable Qty  % Dly Qt to Traded Qty  \n",
       "0  2.737682e+08          10286           485150                   40.60  \n",
       "1  3.650629e+08          14149           897742                   56.20  \n",
       "2  2.099899e+08           6509           587515                   63.76  \n",
       "3  2.750426e+08          12557           420197                   34.48  \n",
       "4  2.081767e+08           9106           534291                   57.48  "
      ]
     },
     "execution_count": 5,
     "metadata": {},
     "output_type": "execute_result"
    }
   ],
   "source": [
    "dfe = dfe.iloc[trim:]\n",
    "dfe = dfe.reset_index()\n",
    "dfe = dfe.drop(columns='index')\n",
    "\n",
    "dfe.head()"
   ]
  },
  {
   "cell_type": "markdown",
   "metadata": {},
   "source": [
    "Allocating the call for each row according to the value of the closing price with respect to the varying values of the bollinger bands"
   ]
  },
  {
   "cell_type": "code",
   "execution_count": 6,
   "metadata": {},
   "outputs": [],
   "source": [
    "call = []\n",
    "for id, value in df.iterrows():\n",
    "    l = df.loc[id, 'Exidelw']\n",
    "    u = df.loc[id, 'Exideup']\n",
    "    cp = dfe.loc[id,'Close Price']\n",
    "    ap = dfe.loc[id,'Average Price']\n",
    "    if cp<l:\n",
    "        call.append('Buy')\n",
    "    elif cp>u:\n",
    "        call.append('Short')\n",
    "    elif cp<u and cp>ap:\n",
    "        call.append('Hold Short')\n",
    "    else:\n",
    "        call.append('Hold Buy')"
   ]
  },
  {
   "cell_type": "code",
   "execution_count": 7,
   "metadata": {},
   "outputs": [
    {
     "data": {
      "text/html": [
       "<div>\n",
       "<style scoped>\n",
       "    .dataframe tbody tr th:only-of-type {\n",
       "        vertical-align: middle;\n",
       "    }\n",
       "\n",
       "    .dataframe tbody tr th {\n",
       "        vertical-align: top;\n",
       "    }\n",
       "\n",
       "    .dataframe thead th {\n",
       "        text-align: right;\n",
       "    }\n",
       "</style>\n",
       "<table border=\"1\" class=\"dataframe\">\n",
       "  <thead>\n",
       "    <tr style=\"text-align: right;\">\n",
       "      <th></th>\n",
       "      <th>ExideCP</th>\n",
       "      <th>ExideStd</th>\n",
       "      <th>ADSP</th>\n",
       "      <th>Exideup</th>\n",
       "      <th>Exidelw</th>\n",
       "      <th>Average</th>\n",
       "      <th>Call</th>\n",
       "    </tr>\n",
       "  </thead>\n",
       "  <tbody>\n",
       "    <tr>\n",
       "      <th>0</th>\n",
       "      <td>233.353571</td>\n",
       "      <td>7.576697</td>\n",
       "      <td>229.09</td>\n",
       "      <td>248.506965</td>\n",
       "      <td>218.200178</td>\n",
       "      <td>229.09</td>\n",
       "      <td>Hold Buy</td>\n",
       "    </tr>\n",
       "    <tr>\n",
       "      <th>1</th>\n",
       "      <td>232.025000</td>\n",
       "      <td>6.819225</td>\n",
       "      <td>228.52</td>\n",
       "      <td>245.663450</td>\n",
       "      <td>218.386550</td>\n",
       "      <td>228.52</td>\n",
       "      <td>Hold Buy</td>\n",
       "    </tr>\n",
       "    <tr>\n",
       "      <th>2</th>\n",
       "      <td>230.789286</td>\n",
       "      <td>5.843345</td>\n",
       "      <td>227.90</td>\n",
       "      <td>242.475976</td>\n",
       "      <td>219.102595</td>\n",
       "      <td>227.90</td>\n",
       "      <td>Hold Buy</td>\n",
       "    </tr>\n",
       "    <tr>\n",
       "      <th>3</th>\n",
       "      <td>229.414286</td>\n",
       "      <td>4.884529</td>\n",
       "      <td>225.70</td>\n",
       "      <td>239.183344</td>\n",
       "      <td>219.645227</td>\n",
       "      <td>225.70</td>\n",
       "      <td>Hold Buy</td>\n",
       "    </tr>\n",
       "    <tr>\n",
       "      <th>4</th>\n",
       "      <td>228.250000</td>\n",
       "      <td>4.082514</td>\n",
       "      <td>223.95</td>\n",
       "      <td>236.415029</td>\n",
       "      <td>220.084971</td>\n",
       "      <td>223.95</td>\n",
       "      <td>Hold Buy</td>\n",
       "    </tr>\n",
       "  </tbody>\n",
       "</table>\n",
       "</div>"
      ],
      "text/plain": [
       "      ExideCP  ExideStd    ADSP     Exideup     Exidelw  Average      Call\n",
       "0  233.353571  7.576697  229.09  248.506965  218.200178   229.09  Hold Buy\n",
       "1  232.025000  6.819225  228.52  245.663450  218.386550   228.52  Hold Buy\n",
       "2  230.789286  5.843345  227.90  242.475976  219.102595   227.90  Hold Buy\n",
       "3  229.414286  4.884529  225.70  239.183344  219.645227   225.70  Hold Buy\n",
       "4  228.250000  4.082514  223.95  236.415029  220.084971   223.95  Hold Buy"
      ]
     },
     "execution_count": 7,
     "metadata": {},
     "output_type": "execute_result"
    }
   ],
   "source": [
    "df['Average']=dfe['Average Price']\n",
    "df['Call']=call\n",
    "\n",
    "df.head()"
   ]
  },
  {
   "cell_type": "markdown",
   "metadata": {},
   "source": [
    "We will now try certain Classification models to classify the \"call\" for the respective bollinger columns.\n",
    "\n",
    "Let's start with Logistic Regression"
   ]
  },
  {
   "cell_type": "code",
   "execution_count": 8,
   "metadata": {},
   "outputs": [],
   "source": [
    "from sklearn.model_selection import train_test_split\n",
    "from sklearn.linear_model import LogisticRegression"
   ]
  },
  {
   "cell_type": "markdown",
   "metadata": {},
   "source": [
    "The bollinger columns are our independent variables and the Call is the target value"
   ]
  },
  {
   "cell_type": "code",
   "execution_count": 9,
   "metadata": {},
   "outputs": [],
   "source": [
    "X = df[['Exidelw','Exideup','Average','ExideCP']]\n",
    "Y = df[['Call']]"
   ]
  },
  {
   "cell_type": "markdown",
   "metadata": {},
   "source": [
    "Normalizing the Bollinger data using the StandardScaler module"
   ]
  },
  {
   "cell_type": "code",
   "execution_count": 10,
   "metadata": {},
   "outputs": [
    {
     "data": {
      "text/plain": [
       "array([[-0.2175128 ,  0.15061275, -0.1957995 , -0.02568124],\n",
       "       [-0.20953498,  0.0392567 , -0.21876797, -0.08091595],\n",
       "       [-0.17888407, -0.08556923, -0.2437512 , -0.13229017],\n",
       "       ...,\n",
       "       [-0.73599932, -0.75800111, -1.01218731, -0.75976832],\n",
       "       [-0.6918501 , -0.89377751, -0.88445042, -0.81040013],\n",
       "       [-0.71335473, -0.95242656, -1.00130751, -0.85197464]])"
      ]
     },
     "execution_count": 10,
     "metadata": {},
     "output_type": "execute_result"
    }
   ],
   "source": [
    "from sklearn.preprocessing import StandardScaler\n",
    "X = StandardScaler().fit_transform(X)\n",
    "X"
   ]
  },
  {
   "cell_type": "markdown",
   "metadata": {},
   "source": [
    "Let's convert the data of the Call column to categorical values represented by numbers since computers can only understand numbers."
   ]
  },
  {
   "cell_type": "code",
   "execution_count": 11,
   "metadata": {},
   "outputs": [],
   "source": [
    "df.Call = pd.Categorical(df.Call)"
   ]
  },
  {
   "cell_type": "markdown",
   "metadata": {},
   "source": [
    "Y is the target data"
   ]
  },
  {
   "cell_type": "code",
   "execution_count": 12,
   "metadata": {},
   "outputs": [
    {
     "data": {
      "text/plain": [
       "0      1\n",
       "1      1\n",
       "2      1\n",
       "3      1\n",
       "4      1\n",
       "      ..\n",
       "476    1\n",
       "477    1\n",
       "478    2\n",
       "479    1\n",
       "480    1\n",
       "Length: 481, dtype: int8"
      ]
     },
     "execution_count": 12,
     "metadata": {},
     "output_type": "execute_result"
    }
   ],
   "source": [
    "Y = df.Call.cat.codes\n",
    "Y"
   ]
  },
  {
   "cell_type": "markdown",
   "metadata": {},
   "source": [
    "To display the mapping of numerical codes to the actual values"
   ]
  },
  {
   "cell_type": "code",
   "execution_count": 13,
   "metadata": {},
   "outputs": [
    {
     "data": {
      "text/plain": [
       "{0: 'Buy', 1: 'Hold Buy', 2: 'Hold Short', 3: 'Short'}"
      ]
     },
     "execution_count": 13,
     "metadata": {},
     "output_type": "execute_result"
    }
   ],
   "source": [
    "dict(enumerate(df['Call'].cat.categories ))"
   ]
  },
  {
   "cell_type": "code",
   "execution_count": 14,
   "metadata": {},
   "outputs": [],
   "source": [
    "X_train, X_test, y_train, y_test = train_test_split(X, Y, test_size=0.2, random_state=1)"
   ]
  },
  {
   "cell_type": "code",
   "execution_count": 15,
   "metadata": {},
   "outputs": [],
   "source": [
    "lr = LogisticRegression().fit(X_train, y_train)"
   ]
  },
  {
   "cell_type": "code",
   "execution_count": 16,
   "metadata": {},
   "outputs": [
    {
     "data": {
      "text/plain": [
       "0.5416666666666666"
      ]
     },
     "execution_count": 16,
     "metadata": {},
     "output_type": "execute_result"
    }
   ],
   "source": [
    "lr.score(X_train,y_train)"
   ]
  },
  {
   "cell_type": "markdown",
   "metadata": {},
   "source": [
    "#### Accuracy Score for Logistic Regression on the test data is found to be: "
   ]
  },
  {
   "cell_type": "code",
   "execution_count": 17,
   "metadata": {
    "scrolled": true
   },
   "outputs": [
    {
     "data": {
      "text/plain": [
       "0.5773195876288659"
      ]
     },
     "execution_count": 17,
     "metadata": {},
     "output_type": "execute_result"
    }
   ],
   "source": [
    "yhat = lr.predict(X_test)\n",
    "accuracy_score(yhat,y_test)"
   ]
  },
  {
   "cell_type": "markdown",
   "metadata": {},
   "source": [
    "Trying out the same procedure of creating a classification model with a Support Vector machine"
   ]
  },
  {
   "cell_type": "code",
   "execution_count": 18,
   "metadata": {},
   "outputs": [],
   "source": [
    "from sklearn import svm\n",
    "clf = svm.SVC()\n",
    "svc = clf.fit(X_train, y_train)"
   ]
  },
  {
   "cell_type": "code",
   "execution_count": 19,
   "metadata": {},
   "outputs": [
    {
     "data": {
      "text/plain": [
       "0.5416666666666666"
      ]
     },
     "execution_count": 19,
     "metadata": {},
     "output_type": "execute_result"
    }
   ],
   "source": [
    "svc.score(X_train,y_train)"
   ]
  },
  {
   "cell_type": "markdown",
   "metadata": {},
   "source": [
    "#### Accuracy Score for SVM on the test data is found to be: "
   ]
  },
  {
   "cell_type": "code",
   "execution_count": 20,
   "metadata": {},
   "outputs": [
    {
     "data": {
      "text/plain": [
       "0.5773195876288659"
      ]
     },
     "execution_count": 20,
     "metadata": {},
     "output_type": "execute_result"
    }
   ],
   "source": [
    "yhats = lr.predict(X_test)\n",
    "accuracy_score(yhats,y_test)"
   ]
  },
  {
   "cell_type": "markdown",
   "metadata": {},
   "source": [
    "Now let's try a Random Forest Classifier model"
   ]
  },
  {
   "cell_type": "code",
   "execution_count": 21,
   "metadata": {},
   "outputs": [],
   "source": [
    "from sklearn.ensemble import RandomForestClassifier\n",
    "clf =  RandomForestClassifier(max_depth=4, n_estimators=10)\n",
    "rf = clf.fit(X_train, y_train)"
   ]
  },
  {
   "cell_type": "code",
   "execution_count": 22,
   "metadata": {},
   "outputs": [
    {
     "data": {
      "text/plain": [
       "0.6588541666666666"
      ]
     },
     "execution_count": 22,
     "metadata": {},
     "output_type": "execute_result"
    }
   ],
   "source": [
    "rf.score(X_train,y_train)"
   ]
  },
  {
   "cell_type": "markdown",
   "metadata": {},
   "source": [
    "#### Accuracy Score for Random Forest classifier on the test data is found to be: "
   ]
  },
  {
   "cell_type": "code",
   "execution_count": 23,
   "metadata": {},
   "outputs": [
    {
     "data": {
      "text/plain": [
       "0.5773195876288659"
      ]
     },
     "execution_count": 23,
     "metadata": {},
     "output_type": "execute_result"
    }
   ],
   "source": [
    "yhatr = lr.predict(X_test)\n",
    "accuracy_score(yhatr,y_test)"
   ]
  },
  {
   "cell_type": "markdown",
   "metadata": {},
   "source": [
    "Trying out the same with a kNN algorithm"
   ]
  },
  {
   "cell_type": "code",
   "execution_count": 24,
   "metadata": {},
   "outputs": [],
   "source": [
    "from sklearn.neighbors import KNeighborsClassifier\n",
    "kNN =  KNeighborsClassifier(n_neighbors=5).fit(X_train,y_train)"
   ]
  },
  {
   "cell_type": "code",
   "execution_count": 25,
   "metadata": {
    "scrolled": true
   },
   "outputs": [
    {
     "data": {
      "text/plain": [
       "0.671875"
      ]
     },
     "execution_count": 25,
     "metadata": {},
     "output_type": "execute_result"
    }
   ],
   "source": [
    "kNN.score(X_train,y_train)"
   ]
  },
  {
   "cell_type": "markdown",
   "metadata": {},
   "source": [
    "#### Accuracy Score for kNN on the test data is found to be: "
   ]
  },
  {
   "cell_type": "code",
   "execution_count": 26,
   "metadata": {},
   "outputs": [
    {
     "data": {
      "text/plain": [
       "0.5154639175257731"
      ]
     },
     "execution_count": 26,
     "metadata": {},
     "output_type": "execute_result"
    }
   ],
   "source": [
    "yhat = kNN.predict(X_test)\n",
    "accuracy_score(yhat,y_test)"
   ]
  },
  {
   "cell_type": "markdown",
   "metadata": {},
   "source": [
    "Now we'll train and test the model for a Neural network"
   ]
  },
  {
   "cell_type": "code",
   "execution_count": 27,
   "metadata": {},
   "outputs": [
    {
     "name": "stderr",
     "output_type": "stream",
     "text": [
      "C:\\Python38\\lib\\site-packages\\sklearn\\neural_network\\_multilayer_perceptron.py:582: ConvergenceWarning: Stochastic Optimizer: Maximum iterations (60) reached and the optimization hasn't converged yet.\n",
      "  warnings.warn(\n"
     ]
    }
   ],
   "source": [
    "from sklearn.neural_network import MLPClassifier\n",
    "clf = MLPClassifier(random_state=1, max_iter=60).fit(X_train, y_train)"
   ]
  },
  {
   "cell_type": "code",
   "execution_count": 28,
   "metadata": {},
   "outputs": [
    {
     "data": {
      "text/plain": [
       "0.5416666666666666"
      ]
     },
     "execution_count": 28,
     "metadata": {},
     "output_type": "execute_result"
    }
   ],
   "source": [
    "clf.score(X_train,y_train)"
   ]
  },
  {
   "cell_type": "markdown",
   "metadata": {},
   "source": [
    "#### Accuracy Score for Neural Networks on the test data is found to be: "
   ]
  },
  {
   "cell_type": "code",
   "execution_count": 29,
   "metadata": {},
   "outputs": [
    {
     "data": {
      "text/plain": [
       "0.5773195876288659"
      ]
     },
     "execution_count": 29,
     "metadata": {},
     "output_type": "execute_result"
    }
   ],
   "source": [
    "yNN = clf.predict(X_test)\n",
    "accuracy_score(yNN,y_test)"
   ]
  },
  {
   "cell_type": "markdown",
   "metadata": {},
   "source": [
    "Now using the best Classification model we're going to set the \"call\" for the Eicher Stock as well. \n",
    "\n",
    "Multiple models had the same best score so we'll be using one of them. (Neural network)"
   ]
  },
  {
   "cell_type": "code",
   "execution_count": 30,
   "metadata": {},
   "outputs": [],
   "source": [
    "dfe = pd.read_csv('EICHERMOT.csv')\n",
    "\n",
    "dfe = dfe[dfe.Series == 'EQ']\n",
    "dfe = dfe.reset_index()\n",
    "dfe = dfe.drop(columns=['index'])"
   ]
  },
  {
   "cell_type": "code",
   "execution_count": 31,
   "metadata": {},
   "outputs": [],
   "source": [
    "dfec = pd.DataFrame()"
   ]
  },
  {
   "cell_type": "code",
   "execution_count": 32,
   "metadata": {},
   "outputs": [],
   "source": [
    "dfec['Eicherlw'] = dfe['Close Price'].rolling(window=21,center=False).mean()\n",
    "dfec['Eicheruw'] = dfe['Close Price'].rolling(window=34,center=False).mean()"
   ]
  },
  {
   "cell_type": "code",
   "execution_count": 33,
   "metadata": {},
   "outputs": [
    {
     "data": {
      "text/html": [
       "<div>\n",
       "<style scoped>\n",
       "    .dataframe tbody tr th:only-of-type {\n",
       "        vertical-align: middle;\n",
       "    }\n",
       "\n",
       "    .dataframe tbody tr th {\n",
       "        vertical-align: top;\n",
       "    }\n",
       "\n",
       "    .dataframe thead th {\n",
       "        text-align: right;\n",
       "    }\n",
       "</style>\n",
       "<table border=\"1\" class=\"dataframe\">\n",
       "  <thead>\n",
       "    <tr style=\"text-align: right;\">\n",
       "      <th></th>\n",
       "      <th>Eicherlw</th>\n",
       "      <th>Eicheruw</th>\n",
       "    </tr>\n",
       "  </thead>\n",
       "  <tbody>\n",
       "    <tr>\n",
       "      <th>0</th>\n",
       "      <td>28462.433333</td>\n",
       "      <td>28377.507353</td>\n",
       "    </tr>\n",
       "    <tr>\n",
       "      <th>1</th>\n",
       "      <td>28413.547619</td>\n",
       "      <td>28343.277941</td>\n",
       "    </tr>\n",
       "    <tr>\n",
       "      <th>2</th>\n",
       "      <td>28350.254762</td>\n",
       "      <td>28298.820588</td>\n",
       "    </tr>\n",
       "    <tr>\n",
       "      <th>3</th>\n",
       "      <td>28290.330952</td>\n",
       "      <td>28268.630882</td>\n",
       "    </tr>\n",
       "    <tr>\n",
       "      <th>4</th>\n",
       "      <td>28218.802381</td>\n",
       "      <td>28248.977941</td>\n",
       "    </tr>\n",
       "    <tr>\n",
       "      <th>...</th>\n",
       "      <td>...</td>\n",
       "      <td>...</td>\n",
       "    </tr>\n",
       "    <tr>\n",
       "      <th>456</th>\n",
       "      <td>20671.369048</td>\n",
       "      <td>20932.719118</td>\n",
       "    </tr>\n",
       "    <tr>\n",
       "      <th>457</th>\n",
       "      <td>20677.742857</td>\n",
       "      <td>20865.561765</td>\n",
       "    </tr>\n",
       "    <tr>\n",
       "      <th>458</th>\n",
       "      <td>20671.616667</td>\n",
       "      <td>20799.342647</td>\n",
       "    </tr>\n",
       "    <tr>\n",
       "      <th>459</th>\n",
       "      <td>20641.792857</td>\n",
       "      <td>20743.536765</td>\n",
       "    </tr>\n",
       "    <tr>\n",
       "      <th>460</th>\n",
       "      <td>20553.178571</td>\n",
       "      <td>20655.085294</td>\n",
       "    </tr>\n",
       "  </tbody>\n",
       "</table>\n",
       "<p>461 rows × 2 columns</p>\n",
       "</div>"
      ],
      "text/plain": [
       "         Eicherlw      Eicheruw\n",
       "0    28462.433333  28377.507353\n",
       "1    28413.547619  28343.277941\n",
       "2    28350.254762  28298.820588\n",
       "3    28290.330952  28268.630882\n",
       "4    28218.802381  28248.977941\n",
       "..            ...           ...\n",
       "456  20671.369048  20932.719118\n",
       "457  20677.742857  20865.561765\n",
       "458  20671.616667  20799.342647\n",
       "459  20641.792857  20743.536765\n",
       "460  20553.178571  20655.085294\n",
       "\n",
       "[461 rows x 2 columns]"
      ]
     },
     "execution_count": 33,
     "metadata": {},
     "output_type": "execute_result"
    }
   ],
   "source": [
    "dfec = dfec.dropna()\n",
    "dfec = dfec.reset_index()\n",
    "dfec.drop(columns='index',inplace=True)\n",
    "dfec"
   ]
  },
  {
   "cell_type": "markdown",
   "metadata": {},
   "source": [
    "Preprocessing the data so that parameter are in accordance with the ones we trained our original data on."
   ]
  },
  {
   "cell_type": "code",
   "execution_count": 34,
   "metadata": {},
   "outputs": [
    {
     "data": {
      "text/html": [
       "<div>\n",
       "<style scoped>\n",
       "    .dataframe tbody tr th:only-of-type {\n",
       "        vertical-align: middle;\n",
       "    }\n",
       "\n",
       "    .dataframe tbody tr th {\n",
       "        vertical-align: top;\n",
       "    }\n",
       "\n",
       "    .dataframe thead th {\n",
       "        text-align: right;\n",
       "    }\n",
       "</style>\n",
       "<table border=\"1\" class=\"dataframe\">\n",
       "  <thead>\n",
       "    <tr style=\"text-align: right;\">\n",
       "      <th></th>\n",
       "      <th>Close Price</th>\n",
       "      <th>EicherStd</th>\n",
       "      <th>ADSP</th>\n",
       "    </tr>\n",
       "  </thead>\n",
       "  <tbody>\n",
       "    <tr>\n",
       "      <th>0</th>\n",
       "      <td>28279.825000</td>\n",
       "      <td>635.580927</td>\n",
       "      <td>28775.46</td>\n",
       "    </tr>\n",
       "    <tr>\n",
       "      <th>1</th>\n",
       "      <td>28297.646429</td>\n",
       "      <td>658.323104</td>\n",
       "      <td>29170.43</td>\n",
       "    </tr>\n",
       "    <tr>\n",
       "      <th>2</th>\n",
       "      <td>28295.003571</td>\n",
       "      <td>653.777960</td>\n",
       "      <td>29302.53</td>\n",
       "    </tr>\n",
       "    <tr>\n",
       "      <th>3</th>\n",
       "      <td>28301.978571</td>\n",
       "      <td>663.402860</td>\n",
       "      <td>29119.84</td>\n",
       "    </tr>\n",
       "    <tr>\n",
       "      <th>4</th>\n",
       "      <td>28398.828571</td>\n",
       "      <td>763.519691</td>\n",
       "      <td>29462.91</td>\n",
       "    </tr>\n",
       "  </tbody>\n",
       "</table>\n",
       "</div>"
      ],
      "text/plain": [
       "    Close Price   EicherStd      ADSP\n",
       "0  28279.825000  635.580927  28775.46\n",
       "1  28297.646429  658.323104  29170.43\n",
       "2  28295.003571  653.777960  29302.53\n",
       "3  28301.978571  663.402860  29119.84\n",
       "4  28398.828571  763.519691  29462.91"
      ]
     },
     "execution_count": 34,
     "metadata": {},
     "output_type": "execute_result"
    }
   ],
   "source": [
    "dff = dfe[['Close Price']].rolling(window=14,center=False).mean()\n",
    "dff['EicherStd'] = dfe[['Close Price']].rolling(window=14,center=False).std()\n",
    "dff['ADSP'] = dfe['Average Price']\n",
    "\n",
    "dff = dff.dropna()\n",
    "dff = dff.reset_index()\n",
    "dff.drop(columns='index',inplace=True)\n",
    "\n",
    "dff.head()"
   ]
  },
  {
   "cell_type": "markdown",
   "metadata": {},
   "source": [
    "Setting the lower and the upper Bolinger bands "
   ]
  },
  {
   "cell_type": "code",
   "execution_count": 35,
   "metadata": {},
   "outputs": [
    {
     "data": {
      "text/html": [
       "<div>\n",
       "<style scoped>\n",
       "    .dataframe tbody tr th:only-of-type {\n",
       "        vertical-align: middle;\n",
       "    }\n",
       "\n",
       "    .dataframe tbody tr th {\n",
       "        vertical-align: top;\n",
       "    }\n",
       "\n",
       "    .dataframe thead th {\n",
       "        text-align: right;\n",
       "    }\n",
       "</style>\n",
       "<table border=\"1\" class=\"dataframe\">\n",
       "  <thead>\n",
       "    <tr style=\"text-align: right;\">\n",
       "      <th></th>\n",
       "      <th>Close Price</th>\n",
       "      <th>EicherStd</th>\n",
       "      <th>ADSP</th>\n",
       "      <th>Eicheruw</th>\n",
       "      <th>Eicherlw</th>\n",
       "    </tr>\n",
       "  </thead>\n",
       "  <tbody>\n",
       "    <tr>\n",
       "      <th>0</th>\n",
       "      <td>28279.825000</td>\n",
       "      <td>635.580927</td>\n",
       "      <td>28775.46</td>\n",
       "      <td>29550.986854</td>\n",
       "      <td>27008.663146</td>\n",
       "    </tr>\n",
       "    <tr>\n",
       "      <th>1</th>\n",
       "      <td>28297.646429</td>\n",
       "      <td>658.323104</td>\n",
       "      <td>29170.43</td>\n",
       "      <td>29614.292637</td>\n",
       "      <td>26981.000220</td>\n",
       "    </tr>\n",
       "    <tr>\n",
       "      <th>2</th>\n",
       "      <td>28295.003571</td>\n",
       "      <td>653.777960</td>\n",
       "      <td>29302.53</td>\n",
       "      <td>29602.559491</td>\n",
       "      <td>26987.447651</td>\n",
       "    </tr>\n",
       "    <tr>\n",
       "      <th>3</th>\n",
       "      <td>28301.978571</td>\n",
       "      <td>663.402860</td>\n",
       "      <td>29119.84</td>\n",
       "      <td>29628.784291</td>\n",
       "      <td>26975.172852</td>\n",
       "    </tr>\n",
       "    <tr>\n",
       "      <th>4</th>\n",
       "      <td>28398.828571</td>\n",
       "      <td>763.519691</td>\n",
       "      <td>29462.91</td>\n",
       "      <td>29925.867954</td>\n",
       "      <td>26871.789189</td>\n",
       "    </tr>\n",
       "  </tbody>\n",
       "</table>\n",
       "</div>"
      ],
      "text/plain": [
       "    Close Price   EicherStd      ADSP      Eicheruw      Eicherlw\n",
       "0  28279.825000  635.580927  28775.46  29550.986854  27008.663146\n",
       "1  28297.646429  658.323104  29170.43  29614.292637  26981.000220\n",
       "2  28295.003571  653.777960  29302.53  29602.559491  26987.447651\n",
       "3  28301.978571  663.402860  29119.84  29628.784291  26975.172852\n",
       "4  28398.828571  763.519691  29462.91  29925.867954  26871.789189"
      ]
     },
     "execution_count": 35,
     "metadata": {},
     "output_type": "execute_result"
    }
   ],
   "source": [
    "a = np.array(dff['Close Price'])\n",
    "b = np.array(dff['EicherStd'])\n",
    "dff['Eicheruw'] = a+2*b\n",
    "dff['Eicherlw'] = a-2*b\n",
    "\n",
    "dff.head()"
   ]
  },
  {
   "cell_type": "markdown",
   "metadata": {},
   "source": [
    "All the bollinger bands will comprise the test data in this case."
   ]
  },
  {
   "cell_type": "code",
   "execution_count": 36,
   "metadata": {},
   "outputs": [],
   "source": [
    "X_test = dff[['ADSP','Eicherlw','Eicheruw','Close Price']]"
   ]
  },
  {
   "cell_type": "code",
   "execution_count": 37,
   "metadata": {},
   "outputs": [
    {
     "data": {
      "text/plain": [
       "array([[ 0.47010872,  0.33578047,  0.31709243,  0.33200463],\n",
       "       [ 0.57149205,  0.32869846,  0.3341577 ,  0.33676113],\n",
       "       [ 0.60540029,  0.33034907,  0.33099481,  0.33605575],\n",
       "       ...,\n",
       "       [-1.69167132, -1.48131955, -1.96786729, -1.74633858],\n",
       "       [-1.69336802, -1.44487107, -2.04154222, -1.76381179],\n",
       "       [-1.99331349, -1.61688025, -1.94792384, -1.8071283 ]])"
      ]
     },
     "execution_count": 37,
     "metadata": {},
     "output_type": "execute_result"
    }
   ],
   "source": [
    "from sklearn import preprocessing\n",
    "X_test = preprocessing.scale(X_test)\n",
    "X_test"
   ]
  },
  {
   "cell_type": "markdown",
   "metadata": {},
   "source": [
    "#### Predicting the call for Eicher stocks"
   ]
  },
  {
   "cell_type": "code",
   "execution_count": 38,
   "metadata": {},
   "outputs": [],
   "source": [
    "ypred = clf.predict(X_test)"
   ]
  },
  {
   "cell_type": "code",
   "execution_count": 39,
   "metadata": {},
   "outputs": [
    {
     "name": "stdout",
     "output_type": "stream",
     "text": [
      "{0: 'Buy', 1: 'Hold Buy', 2: 'Hold Short', 3: 'Short'}\n"
     ]
    }
   ],
   "source": [
    "dic = dict(enumerate(df['Call'].cat.categories ))\n",
    "print (dic)"
   ]
  },
  {
   "cell_type": "code",
   "execution_count": 40,
   "metadata": {},
   "outputs": [
    {
     "data": {
      "text/html": [
       "<div>\n",
       "<style scoped>\n",
       "    .dataframe tbody tr th:only-of-type {\n",
       "        vertical-align: middle;\n",
       "    }\n",
       "\n",
       "    .dataframe tbody tr th {\n",
       "        vertical-align: top;\n",
       "    }\n",
       "\n",
       "    .dataframe thead th {\n",
       "        text-align: right;\n",
       "    }\n",
       "</style>\n",
       "<table border=\"1\" class=\"dataframe\">\n",
       "  <thead>\n",
       "    <tr style=\"text-align: right;\">\n",
       "      <th></th>\n",
       "      <th>Close Price</th>\n",
       "      <th>EicherStd</th>\n",
       "      <th>ADSP</th>\n",
       "      <th>Eicheruw</th>\n",
       "      <th>Eicherlw</th>\n",
       "      <th>call</th>\n",
       "    </tr>\n",
       "  </thead>\n",
       "  <tbody>\n",
       "    <tr>\n",
       "      <th>0</th>\n",
       "      <td>28279.825000</td>\n",
       "      <td>635.580927</td>\n",
       "      <td>28775.46</td>\n",
       "      <td>29550.986854</td>\n",
       "      <td>27008.663146</td>\n",
       "      <td>Hold Buy</td>\n",
       "    </tr>\n",
       "    <tr>\n",
       "      <th>1</th>\n",
       "      <td>28297.646429</td>\n",
       "      <td>658.323104</td>\n",
       "      <td>29170.43</td>\n",
       "      <td>29614.292637</td>\n",
       "      <td>26981.000220</td>\n",
       "      <td>Hold Buy</td>\n",
       "    </tr>\n",
       "    <tr>\n",
       "      <th>2</th>\n",
       "      <td>28295.003571</td>\n",
       "      <td>653.777960</td>\n",
       "      <td>29302.53</td>\n",
       "      <td>29602.559491</td>\n",
       "      <td>26987.447651</td>\n",
       "      <td>Hold Buy</td>\n",
       "    </tr>\n",
       "    <tr>\n",
       "      <th>3</th>\n",
       "      <td>28301.978571</td>\n",
       "      <td>663.402860</td>\n",
       "      <td>29119.84</td>\n",
       "      <td>29628.784291</td>\n",
       "      <td>26975.172852</td>\n",
       "      <td>Hold Buy</td>\n",
       "    </tr>\n",
       "    <tr>\n",
       "      <th>4</th>\n",
       "      <td>28398.828571</td>\n",
       "      <td>763.519691</td>\n",
       "      <td>29462.91</td>\n",
       "      <td>29925.867954</td>\n",
       "      <td>26871.789189</td>\n",
       "      <td>Hold Buy</td>\n",
       "    </tr>\n",
       "    <tr>\n",
       "      <th>...</th>\n",
       "      <td>...</td>\n",
       "      <td>...</td>\n",
       "      <td>...</td>\n",
       "      <td>...</td>\n",
       "      <td>...</td>\n",
       "      <td>...</td>\n",
       "    </tr>\n",
       "    <tr>\n",
       "      <th>476</th>\n",
       "      <td>20635.325000</td>\n",
       "      <td>414.387957</td>\n",
       "      <td>20366.88</td>\n",
       "      <td>21464.100915</td>\n",
       "      <td>19806.549085</td>\n",
       "      <td>Hold Buy</td>\n",
       "    </tr>\n",
       "    <tr>\n",
       "      <th>477</th>\n",
       "      <td>20562.139286</td>\n",
       "      <td>363.718447</td>\n",
       "      <td>20365.19</td>\n",
       "      <td>21289.576180</td>\n",
       "      <td>19834.702391</td>\n",
       "      <td>Hold Buy</td>\n",
       "    </tr>\n",
       "    <tr>\n",
       "      <th>478</th>\n",
       "      <td>20492.778571</td>\n",
       "      <td>290.929599</td>\n",
       "      <td>20353.58</td>\n",
       "      <td>21074.637769</td>\n",
       "      <td>19910.919374</td>\n",
       "      <td>Hold Buy</td>\n",
       "    </tr>\n",
       "    <tr>\n",
       "      <th>479</th>\n",
       "      <td>20427.310714</td>\n",
       "      <td>187.010271</td>\n",
       "      <td>20346.97</td>\n",
       "      <td>20801.331257</td>\n",
       "      <td>20053.290171</td>\n",
       "      <td>Hold Buy</td>\n",
       "    </tr>\n",
       "    <tr>\n",
       "      <th>480</th>\n",
       "      <td>20265.014286</td>\n",
       "      <td>441.803127</td>\n",
       "      <td>19178.44</td>\n",
       "      <td>21148.620540</td>\n",
       "      <td>19381.408031</td>\n",
       "      <td>Hold Buy</td>\n",
       "    </tr>\n",
       "  </tbody>\n",
       "</table>\n",
       "<p>481 rows × 6 columns</p>\n",
       "</div>"
      ],
      "text/plain": [
       "      Close Price   EicherStd      ADSP      Eicheruw      Eicherlw      call\n",
       "0    28279.825000  635.580927  28775.46  29550.986854  27008.663146  Hold Buy\n",
       "1    28297.646429  658.323104  29170.43  29614.292637  26981.000220  Hold Buy\n",
       "2    28295.003571  653.777960  29302.53  29602.559491  26987.447651  Hold Buy\n",
       "3    28301.978571  663.402860  29119.84  29628.784291  26975.172852  Hold Buy\n",
       "4    28398.828571  763.519691  29462.91  29925.867954  26871.789189  Hold Buy\n",
       "..            ...         ...       ...           ...           ...       ...\n",
       "476  20635.325000  414.387957  20366.88  21464.100915  19806.549085  Hold Buy\n",
       "477  20562.139286  363.718447  20365.19  21289.576180  19834.702391  Hold Buy\n",
       "478  20492.778571  290.929599  20353.58  21074.637769  19910.919374  Hold Buy\n",
       "479  20427.310714  187.010271  20346.97  20801.331257  20053.290171  Hold Buy\n",
       "480  20265.014286  441.803127  19178.44  21148.620540  19381.408031  Hold Buy\n",
       "\n",
       "[481 rows x 6 columns]"
      ]
     },
     "execution_count": 40,
     "metadata": {},
     "output_type": "execute_result"
    }
   ],
   "source": [
    "call =[]\n",
    "for i in ypred:\n",
    "    call.append(dic[i])\n",
    "dff['call']=call\n",
    "dff"
   ]
  },
  {
   "cell_type": "markdown",
   "metadata": {},
   "source": [
    "# 4.2"
   ]
  },
  {
   "cell_type": "markdown",
   "metadata": {},
   "source": [
    "To measure the efficiency of our trading algorithm we will again utilize the classification to make a trade call with RandomForest Classifer as mentioned in the problem statement.\n",
    "\n",
    "This will be done on the Eicher stocks"
   ]
  },
  {
   "cell_type": "code",
   "execution_count": 41,
   "metadata": {},
   "outputs": [],
   "source": [
    "dfe = dfe[['Low Price','High Price','Open Price','Close Price']]"
   ]
  },
  {
   "cell_type": "markdown",
   "metadata": {},
   "source": [
    "To set the percentage change between the opening and the closing price of the day and the low and high price of the day respectively denoted by coc and hlc."
   ]
  },
  {
   "cell_type": "code",
   "execution_count": 42,
   "metadata": {},
   "outputs": [],
   "source": [
    "coc =[]\n",
    "hlc =[]\n",
    "for id, value in dfe.iterrows():\n",
    "    pc1 = (dfe.loc[id, 'Close Price']-dfe.loc[id, 'Open Price'])/dfe.loc[id, 'Open Price'] \n",
    "    pc2 = (dfe.loc[id, 'High Price']-dfe.loc[id, 'Low Price'])/dfe.loc[id, 'Low Price'] \n",
    "    coc.append(pc1)\n",
    "    hlc.append(pc2)\n",
    "dfe['COC']=coc\n",
    "dfe['HLC']=hlc"
   ]
  },
  {
   "cell_type": "markdown",
   "metadata": {},
   "source": [
    "5 day rolling mean of Close price and standard deviation"
   ]
  },
  {
   "cell_type": "code",
   "execution_count": 43,
   "metadata": {},
   "outputs": [
    {
     "data": {
      "text/html": [
       "<div>\n",
       "<style scoped>\n",
       "    .dataframe tbody tr th:only-of-type {\n",
       "        vertical-align: middle;\n",
       "    }\n",
       "\n",
       "    .dataframe tbody tr th {\n",
       "        vertical-align: top;\n",
       "    }\n",
       "\n",
       "    .dataframe thead th {\n",
       "        text-align: right;\n",
       "    }\n",
       "</style>\n",
       "<table border=\"1\" class=\"dataframe\">\n",
       "  <thead>\n",
       "    <tr style=\"text-align: right;\">\n",
       "      <th></th>\n",
       "      <th>Low Price</th>\n",
       "      <th>High Price</th>\n",
       "      <th>Open Price</th>\n",
       "      <th>Close Price</th>\n",
       "      <th>COC</th>\n",
       "      <th>HLC</th>\n",
       "      <th>Mean</th>\n",
       "      <th>STD</th>\n",
       "    </tr>\n",
       "  </thead>\n",
       "  <tbody>\n",
       "    <tr>\n",
       "      <th>0</th>\n",
       "      <td>27756.00</td>\n",
       "      <td>28698.00</td>\n",
       "      <td>28698.00</td>\n",
       "      <td>27936.05</td>\n",
       "      <td>-0.026551</td>\n",
       "      <td>0.033939</td>\n",
       "      <td>28736.00</td>\n",
       "      <td>579.125873</td>\n",
       "    </tr>\n",
       "    <tr>\n",
       "      <th>1</th>\n",
       "      <td>27021.50</td>\n",
       "      <td>28279.95</td>\n",
       "      <td>27936.05</td>\n",
       "      <td>27189.90</td>\n",
       "      <td>-0.026709</td>\n",
       "      <td>0.046572</td>\n",
       "      <td>28387.86</td>\n",
       "      <td>878.648943</td>\n",
       "    </tr>\n",
       "    <tr>\n",
       "      <th>2</th>\n",
       "      <td>27120.55</td>\n",
       "      <td>27900.00</td>\n",
       "      <td>27199.00</td>\n",
       "      <td>27598.25</td>\n",
       "      <td>0.014679</td>\n",
       "      <td>0.028740</td>\n",
       "      <td>28035.01</td>\n",
       "      <td>731.290139</td>\n",
       "    </tr>\n",
       "    <tr>\n",
       "      <th>3</th>\n",
       "      <td>27200.00</td>\n",
       "      <td>27757.05</td>\n",
       "      <td>27600.00</td>\n",
       "      <td>27364.70</td>\n",
       "      <td>-0.008525</td>\n",
       "      <td>0.020480</td>\n",
       "      <td>27689.24</td>\n",
       "      <td>466.413220</td>\n",
       "    </tr>\n",
       "    <tr>\n",
       "      <th>4</th>\n",
       "      <td>27321.05</td>\n",
       "      <td>28120.00</td>\n",
       "      <td>27430.00</td>\n",
       "      <td>28009.45</td>\n",
       "      <td>0.021125</td>\n",
       "      <td>0.029243</td>\n",
       "      <td>27619.67</td>\n",
       "      <td>354.328775</td>\n",
       "    </tr>\n",
       "  </tbody>\n",
       "</table>\n",
       "</div>"
      ],
      "text/plain": [
       "   Low Price  High Price  Open Price  Close Price       COC       HLC  \\\n",
       "0   27756.00    28698.00    28698.00     27936.05 -0.026551  0.033939   \n",
       "1   27021.50    28279.95    27936.05     27189.90 -0.026709  0.046572   \n",
       "2   27120.55    27900.00    27199.00     27598.25  0.014679  0.028740   \n",
       "3   27200.00    27757.05    27600.00     27364.70 -0.008525  0.020480   \n",
       "4   27321.05    28120.00    27430.00     28009.45  0.021125  0.029243   \n",
       "\n",
       "       Mean         STD  \n",
       "0  28736.00  579.125873  \n",
       "1  28387.86  878.648943  \n",
       "2  28035.01  731.290139  \n",
       "3  27689.24  466.413220  \n",
       "4  27619.67  354.328775  "
      ]
     },
     "execution_count": 43,
     "metadata": {},
     "output_type": "execute_result"
    }
   ],
   "source": [
    "dfe['Mean']= dfe[['Close Price']].rolling(window=5,center=False).mean()\n",
    "dfe['STD']= dfe[['Close Price']].rolling(window=5,center=False).std()\n",
    "\n",
    "dfe = dfe.dropna()\n",
    "dfe = dfe.reset_index()\n",
    "dfe.drop(columns='index',inplace=True)\n",
    "\n",
    "dfe.head()"
   ]
  },
  {
   "cell_type": "markdown",
   "metadata": {},
   "source": [
    "Setting the action values according to the logic given in the problem statement"
   ]
  },
  {
   "cell_type": "code",
   "execution_count": 44,
   "metadata": {},
   "outputs": [
    {
     "data": {
      "text/html": [
       "<div>\n",
       "<style scoped>\n",
       "    .dataframe tbody tr th:only-of-type {\n",
       "        vertical-align: middle;\n",
       "    }\n",
       "\n",
       "    .dataframe tbody tr th {\n",
       "        vertical-align: top;\n",
       "    }\n",
       "\n",
       "    .dataframe thead th {\n",
       "        text-align: right;\n",
       "    }\n",
       "</style>\n",
       "<table border=\"1\" class=\"dataframe\">\n",
       "  <thead>\n",
       "    <tr style=\"text-align: right;\">\n",
       "      <th></th>\n",
       "      <th>Low Price</th>\n",
       "      <th>High Price</th>\n",
       "      <th>Open Price</th>\n",
       "      <th>Close Price</th>\n",
       "      <th>COC</th>\n",
       "      <th>HLC</th>\n",
       "      <th>Mean</th>\n",
       "      <th>STD</th>\n",
       "      <th>Action</th>\n",
       "    </tr>\n",
       "  </thead>\n",
       "  <tbody>\n",
       "    <tr>\n",
       "      <th>0</th>\n",
       "      <td>27756.00</td>\n",
       "      <td>28698.00</td>\n",
       "      <td>28698.00</td>\n",
       "      <td>27936.05</td>\n",
       "      <td>-0.026551</td>\n",
       "      <td>0.033939</td>\n",
       "      <td>28736.00</td>\n",
       "      <td>579.125873</td>\n",
       "      <td>-1</td>\n",
       "    </tr>\n",
       "    <tr>\n",
       "      <th>1</th>\n",
       "      <td>27021.50</td>\n",
       "      <td>28279.95</td>\n",
       "      <td>27936.05</td>\n",
       "      <td>27189.90</td>\n",
       "      <td>-0.026709</td>\n",
       "      <td>0.046572</td>\n",
       "      <td>28387.86</td>\n",
       "      <td>878.648943</td>\n",
       "      <td>1</td>\n",
       "    </tr>\n",
       "    <tr>\n",
       "      <th>2</th>\n",
       "      <td>27120.55</td>\n",
       "      <td>27900.00</td>\n",
       "      <td>27199.00</td>\n",
       "      <td>27598.25</td>\n",
       "      <td>0.014679</td>\n",
       "      <td>0.028740</td>\n",
       "      <td>28035.01</td>\n",
       "      <td>731.290139</td>\n",
       "      <td>-1</td>\n",
       "    </tr>\n",
       "    <tr>\n",
       "      <th>3</th>\n",
       "      <td>27200.00</td>\n",
       "      <td>27757.05</td>\n",
       "      <td>27600.00</td>\n",
       "      <td>27364.70</td>\n",
       "      <td>-0.008525</td>\n",
       "      <td>0.020480</td>\n",
       "      <td>27689.24</td>\n",
       "      <td>466.413220</td>\n",
       "      <td>1</td>\n",
       "    </tr>\n",
       "    <tr>\n",
       "      <th>4</th>\n",
       "      <td>27321.05</td>\n",
       "      <td>28120.00</td>\n",
       "      <td>27430.00</td>\n",
       "      <td>28009.45</td>\n",
       "      <td>0.021125</td>\n",
       "      <td>0.029243</td>\n",
       "      <td>27619.67</td>\n",
       "      <td>354.328775</td>\n",
       "      <td>1</td>\n",
       "    </tr>\n",
       "    <tr>\n",
       "      <th>...</th>\n",
       "      <td>...</td>\n",
       "      <td>...</td>\n",
       "      <td>...</td>\n",
       "      <td>...</td>\n",
       "      <td>...</td>\n",
       "      <td>...</td>\n",
       "      <td>...</td>\n",
       "      <td>...</td>\n",
       "      <td>...</td>\n",
       "    </tr>\n",
       "    <tr>\n",
       "      <th>485</th>\n",
       "      <td>20270.05</td>\n",
       "      <td>20579.90</td>\n",
       "      <td>20470.00</td>\n",
       "      <td>20353.20</td>\n",
       "      <td>-0.005706</td>\n",
       "      <td>0.015286</td>\n",
       "      <td>20397.77</td>\n",
       "      <td>93.820051</td>\n",
       "      <td>-1</td>\n",
       "    </tr>\n",
       "    <tr>\n",
       "      <th>486</th>\n",
       "      <td>20250.00</td>\n",
       "      <td>20470.00</td>\n",
       "      <td>20280.00</td>\n",
       "      <td>20336.55</td>\n",
       "      <td>0.002788</td>\n",
       "      <td>0.010864</td>\n",
       "      <td>20391.42</td>\n",
       "      <td>97.322406</td>\n",
       "      <td>1</td>\n",
       "    </tr>\n",
       "    <tr>\n",
       "      <th>487</th>\n",
       "      <td>20227.60</td>\n",
       "      <td>20490.85</td>\n",
       "      <td>20315.00</td>\n",
       "      <td>20360.90</td>\n",
       "      <td>0.002259</td>\n",
       "      <td>0.013014</td>\n",
       "      <td>20350.58</td>\n",
       "      <td>8.857243</td>\n",
       "      <td>-1</td>\n",
       "    </tr>\n",
       "    <tr>\n",
       "      <th>488</th>\n",
       "      <td>20301.00</td>\n",
       "      <td>20417.55</td>\n",
       "      <td>20390.00</td>\n",
       "      <td>20354.00</td>\n",
       "      <td>-0.001766</td>\n",
       "      <td>0.005741</td>\n",
       "      <td>20350.91</td>\n",
       "      <td>8.969699</td>\n",
       "      <td>-1</td>\n",
       "    </tr>\n",
       "    <tr>\n",
       "      <th>489</th>\n",
       "      <td>18600.00</td>\n",
       "      <td>20121.00</td>\n",
       "      <td>20050.00</td>\n",
       "      <td>18751.75</td>\n",
       "      <td>-0.064751</td>\n",
       "      <td>0.081774</td>\n",
       "      <td>20031.28</td>\n",
       "      <td>715.335030</td>\n",
       "      <td>0</td>\n",
       "    </tr>\n",
       "  </tbody>\n",
       "</table>\n",
       "<p>490 rows × 9 columns</p>\n",
       "</div>"
      ],
      "text/plain": [
       "     Low Price  High Price  Open Price  Close Price       COC       HLC  \\\n",
       "0     27756.00    28698.00    28698.00     27936.05 -0.026551  0.033939   \n",
       "1     27021.50    28279.95    27936.05     27189.90 -0.026709  0.046572   \n",
       "2     27120.55    27900.00    27199.00     27598.25  0.014679  0.028740   \n",
       "3     27200.00    27757.05    27600.00     27364.70 -0.008525  0.020480   \n",
       "4     27321.05    28120.00    27430.00     28009.45  0.021125  0.029243   \n",
       "..         ...         ...         ...          ...       ...       ...   \n",
       "485   20270.05    20579.90    20470.00     20353.20 -0.005706  0.015286   \n",
       "486   20250.00    20470.00    20280.00     20336.55  0.002788  0.010864   \n",
       "487   20227.60    20490.85    20315.00     20360.90  0.002259  0.013014   \n",
       "488   20301.00    20417.55    20390.00     20354.00 -0.001766  0.005741   \n",
       "489   18600.00    20121.00    20050.00     18751.75 -0.064751  0.081774   \n",
       "\n",
       "         Mean         STD  Action  \n",
       "0    28736.00  579.125873      -1  \n",
       "1    28387.86  878.648943       1  \n",
       "2    28035.01  731.290139      -1  \n",
       "3    27689.24  466.413220       1  \n",
       "4    27619.67  354.328775       1  \n",
       "..        ...         ...     ...  \n",
       "485  20397.77   93.820051      -1  \n",
       "486  20391.42   97.322406       1  \n",
       "487  20350.58    8.857243      -1  \n",
       "488  20350.91    8.969699      -1  \n",
       "489  20031.28  715.335030       0  \n",
       "\n",
       "[490 rows x 9 columns]"
      ]
     },
     "execution_count": 44,
     "metadata": {},
     "output_type": "execute_result"
    }
   ],
   "source": [
    "act = []\n",
    "for id, value in dfe.iterrows():\n",
    "    if id==489:\n",
    "        break\n",
    "    if dfe.loc[id, 'Close Price']<dfe.loc[id+1, 'Close Price']:\n",
    "        act.append(1)\n",
    "    else:\n",
    "        act.append(-1)\n",
    "act.append(0)\n",
    "dfe['Action']=act\n",
    "dfe "
   ]
  },
  {
   "cell_type": "markdown",
   "metadata": {},
   "source": [
    "Removing the last row because it doesn't have a row after it for the action to be dependent on it"
   ]
  },
  {
   "cell_type": "code",
   "execution_count": 45,
   "metadata": {},
   "outputs": [],
   "source": [
    "dfe = dfe.head(len(dfe)-1)"
   ]
  },
  {
   "cell_type": "markdown",
   "metadata": {},
   "source": [
    "As usual, scaling down the values ."
   ]
  },
  {
   "cell_type": "code",
   "execution_count": 46,
   "metadata": {},
   "outputs": [],
   "source": [
    "X = dfe[['COC','HLC','Mean','STD']]\n",
    "y= dfe[['Action']]\n",
    "X = preprocessing.scale(X)"
   ]
  },
  {
   "cell_type": "code",
   "execution_count": 47,
   "metadata": {},
   "outputs": [],
   "source": [
    "X_train, X_test, y_train, y_test = train_test_split(X, y, test_size=0.3, random_state=1)"
   ]
  },
  {
   "cell_type": "markdown",
   "metadata": {},
   "source": [
    "Training out model with a Random Forest classification model"
   ]
  },
  {
   "cell_type": "code",
   "execution_count": 48,
   "metadata": {},
   "outputs": [
    {
     "name": "stderr",
     "output_type": "stream",
     "text": [
      "<ipython-input-48-9608024704d1>:2: DataConversionWarning: A column-vector y was passed when a 1d array was expected. Please change the shape of y to (n_samples,), for example using ravel().\n",
      "  rf = clf.fit(X_train, y_train)\n"
     ]
    }
   ],
   "source": [
    "clf = RandomForestClassifier(max_depth=3, random_state=0)\n",
    "rf = clf.fit(X_train, y_train)"
   ]
  },
  {
   "cell_type": "code",
   "execution_count": 49,
   "metadata": {},
   "outputs": [
    {
     "data": {
      "text/plain": [
       "0.6812865497076024"
      ]
     },
     "execution_count": 49,
     "metadata": {},
     "output_type": "execute_result"
    }
   ],
   "source": [
    "rf.score(X_train,y_train)"
   ]
  },
  {
   "cell_type": "markdown",
   "metadata": {},
   "source": [
    "#### The accuracy score of the model with a Random Forest classifier"
   ]
  },
  {
   "cell_type": "code",
   "execution_count": 50,
   "metadata": {},
   "outputs": [
    {
     "data": {
      "text/plain": [
       "0.48299319727891155"
      ]
     },
     "execution_count": 50,
     "metadata": {},
     "output_type": "execute_result"
    }
   ],
   "source": [
    "yp = rf.predict(X_test)\n",
    "accuracy_score(y_test,yp)"
   ]
  },
  {
   "cell_type": "code",
   "execution_count": 51,
   "metadata": {},
   "outputs": [
    {
     "data": {
      "text/html": [
       "<div>\n",
       "<style scoped>\n",
       "    .dataframe tbody tr th:only-of-type {\n",
       "        vertical-align: middle;\n",
       "    }\n",
       "\n",
       "    .dataframe tbody tr th {\n",
       "        vertical-align: top;\n",
       "    }\n",
       "\n",
       "    .dataframe thead th {\n",
       "        text-align: right;\n",
       "    }\n",
       "</style>\n",
       "<table border=\"1\" class=\"dataframe\">\n",
       "  <thead>\n",
       "    <tr style=\"text-align: right;\">\n",
       "      <th></th>\n",
       "      <th>Low Price</th>\n",
       "      <th>High Price</th>\n",
       "      <th>Open Price</th>\n",
       "      <th>Close Price</th>\n",
       "      <th>COC</th>\n",
       "      <th>HLC</th>\n",
       "      <th>Mean</th>\n",
       "      <th>STD</th>\n",
       "      <th>Action</th>\n",
       "    </tr>\n",
       "  </thead>\n",
       "  <tbody>\n",
       "    <tr>\n",
       "      <th>0</th>\n",
       "      <td>27756.00</td>\n",
       "      <td>28698.00</td>\n",
       "      <td>28698.00</td>\n",
       "      <td>27936.05</td>\n",
       "      <td>-0.026551</td>\n",
       "      <td>0.033939</td>\n",
       "      <td>28736.00</td>\n",
       "      <td>579.125873</td>\n",
       "      <td>-1</td>\n",
       "    </tr>\n",
       "    <tr>\n",
       "      <th>1</th>\n",
       "      <td>27021.50</td>\n",
       "      <td>28279.95</td>\n",
       "      <td>27936.05</td>\n",
       "      <td>27189.90</td>\n",
       "      <td>-0.026709</td>\n",
       "      <td>0.046572</td>\n",
       "      <td>28387.86</td>\n",
       "      <td>878.648943</td>\n",
       "      <td>1</td>\n",
       "    </tr>\n",
       "    <tr>\n",
       "      <th>2</th>\n",
       "      <td>27120.55</td>\n",
       "      <td>27900.00</td>\n",
       "      <td>27199.00</td>\n",
       "      <td>27598.25</td>\n",
       "      <td>0.014679</td>\n",
       "      <td>0.028740</td>\n",
       "      <td>28035.01</td>\n",
       "      <td>731.290139</td>\n",
       "      <td>-1</td>\n",
       "    </tr>\n",
       "    <tr>\n",
       "      <th>3</th>\n",
       "      <td>27200.00</td>\n",
       "      <td>27757.05</td>\n",
       "      <td>27600.00</td>\n",
       "      <td>27364.70</td>\n",
       "      <td>-0.008525</td>\n",
       "      <td>0.020480</td>\n",
       "      <td>27689.24</td>\n",
       "      <td>466.413220</td>\n",
       "      <td>1</td>\n",
       "    </tr>\n",
       "    <tr>\n",
       "      <th>4</th>\n",
       "      <td>27321.05</td>\n",
       "      <td>28120.00</td>\n",
       "      <td>27430.00</td>\n",
       "      <td>28009.45</td>\n",
       "      <td>0.021125</td>\n",
       "      <td>0.029243</td>\n",
       "      <td>27619.67</td>\n",
       "      <td>354.328775</td>\n",
       "      <td>1</td>\n",
       "    </tr>\n",
       "  </tbody>\n",
       "</table>\n",
       "</div>"
      ],
      "text/plain": [
       "   Low Price  High Price  Open Price  Close Price       COC       HLC  \\\n",
       "0   27756.00    28698.00    28698.00     27936.05 -0.026551  0.033939   \n",
       "1   27021.50    28279.95    27936.05     27189.90 -0.026709  0.046572   \n",
       "2   27120.55    27900.00    27199.00     27598.25  0.014679  0.028740   \n",
       "3   27200.00    27757.05    27600.00     27364.70 -0.008525  0.020480   \n",
       "4   27321.05    28120.00    27430.00     28009.45  0.021125  0.029243   \n",
       "\n",
       "       Mean         STD  Action  \n",
       "0  28736.00  579.125873      -1  \n",
       "1  28387.86  878.648943       1  \n",
       "2  28035.01  731.290139      -1  \n",
       "3  27689.24  466.413220       1  \n",
       "4  27619.67  354.328775       1  "
      ]
     },
     "execution_count": 51,
     "metadata": {},
     "output_type": "execute_result"
    }
   ],
   "source": [
    "dfe.head()"
   ]
  },
  {
   "cell_type": "markdown",
   "metadata": {},
   "source": [
    "To plot the cumulative return percentage by taking the percentage change of the values of the Close price between the first and the current day."
   ]
  },
  {
   "cell_type": "code",
   "execution_count": 52,
   "metadata": {},
   "outputs": [
    {
     "name": "stderr",
     "output_type": "stream",
     "text": [
      "<ipython-input-52-4b2bd90f11c3>:8: SettingWithCopyWarning: \n",
      "A value is trying to be set on a copy of a slice from a DataFrame.\n",
      "Try using .loc[row_indexer,col_indexer] = value instead\n",
      "\n",
      "See the caveats in the documentation: https://pandas.pydata.org/pandas-docs/stable/user_guide/indexing.html#returning-a-view-versus-a-copy\n",
      "  dfe['Cumulative']=pl\n"
     ]
    },
    {
     "data": {
      "text/html": [
       "<div>\n",
       "<style scoped>\n",
       "    .dataframe tbody tr th:only-of-type {\n",
       "        vertical-align: middle;\n",
       "    }\n",
       "\n",
       "    .dataframe tbody tr th {\n",
       "        vertical-align: top;\n",
       "    }\n",
       "\n",
       "    .dataframe thead th {\n",
       "        text-align: right;\n",
       "    }\n",
       "</style>\n",
       "<table border=\"1\" class=\"dataframe\">\n",
       "  <thead>\n",
       "    <tr style=\"text-align: right;\">\n",
       "      <th></th>\n",
       "      <th>Low Price</th>\n",
       "      <th>High Price</th>\n",
       "      <th>Open Price</th>\n",
       "      <th>Close Price</th>\n",
       "      <th>COC</th>\n",
       "      <th>HLC</th>\n",
       "      <th>Mean</th>\n",
       "      <th>STD</th>\n",
       "      <th>Action</th>\n",
       "      <th>Cumulative</th>\n",
       "    </tr>\n",
       "  </thead>\n",
       "  <tbody>\n",
       "    <tr>\n",
       "      <th>0</th>\n",
       "      <td>27756.00</td>\n",
       "      <td>28698.00</td>\n",
       "      <td>28698.00</td>\n",
       "      <td>27936.05</td>\n",
       "      <td>-0.026551</td>\n",
       "      <td>0.033939</td>\n",
       "      <td>28736.00</td>\n",
       "      <td>579.125873</td>\n",
       "      <td>-1</td>\n",
       "      <td>0.000000</td>\n",
       "    </tr>\n",
       "    <tr>\n",
       "      <th>1</th>\n",
       "      <td>27021.50</td>\n",
       "      <td>28279.95</td>\n",
       "      <td>27936.05</td>\n",
       "      <td>27189.90</td>\n",
       "      <td>-0.026709</td>\n",
       "      <td>0.046572</td>\n",
       "      <td>28387.86</td>\n",
       "      <td>878.648943</td>\n",
       "      <td>1</td>\n",
       "      <td>-2.670922</td>\n",
       "    </tr>\n",
       "    <tr>\n",
       "      <th>2</th>\n",
       "      <td>27120.55</td>\n",
       "      <td>27900.00</td>\n",
       "      <td>27199.00</td>\n",
       "      <td>27598.25</td>\n",
       "      <td>0.014679</td>\n",
       "      <td>0.028740</td>\n",
       "      <td>28035.01</td>\n",
       "      <td>731.290139</td>\n",
       "      <td>-1</td>\n",
       "      <td>-1.209190</td>\n",
       "    </tr>\n",
       "    <tr>\n",
       "      <th>3</th>\n",
       "      <td>27200.00</td>\n",
       "      <td>27757.05</td>\n",
       "      <td>27600.00</td>\n",
       "      <td>27364.70</td>\n",
       "      <td>-0.008525</td>\n",
       "      <td>0.020480</td>\n",
       "      <td>27689.24</td>\n",
       "      <td>466.413220</td>\n",
       "      <td>1</td>\n",
       "      <td>-2.045207</td>\n",
       "    </tr>\n",
       "    <tr>\n",
       "      <th>4</th>\n",
       "      <td>27321.05</td>\n",
       "      <td>28120.00</td>\n",
       "      <td>27430.00</td>\n",
       "      <td>28009.45</td>\n",
       "      <td>0.021125</td>\n",
       "      <td>0.029243</td>\n",
       "      <td>27619.67</td>\n",
       "      <td>354.328775</td>\n",
       "      <td>1</td>\n",
       "      <td>0.262743</td>\n",
       "    </tr>\n",
       "  </tbody>\n",
       "</table>\n",
       "</div>"
      ],
      "text/plain": [
       "   Low Price  High Price  Open Price  Close Price       COC       HLC  \\\n",
       "0   27756.00    28698.00    28698.00     27936.05 -0.026551  0.033939   \n",
       "1   27021.50    28279.95    27936.05     27189.90 -0.026709  0.046572   \n",
       "2   27120.55    27900.00    27199.00     27598.25  0.014679  0.028740   \n",
       "3   27200.00    27757.05    27600.00     27364.70 -0.008525  0.020480   \n",
       "4   27321.05    28120.00    27430.00     28009.45  0.021125  0.029243   \n",
       "\n",
       "       Mean         STD  Action  Cumulative  \n",
       "0  28736.00  579.125873      -1    0.000000  \n",
       "1  28387.86  878.648943       1   -2.670922  \n",
       "2  28035.01  731.290139      -1   -1.209190  \n",
       "3  27689.24  466.413220       1   -2.045207  \n",
       "4  27619.67  354.328775       1    0.262743  "
      ]
     },
     "execution_count": 52,
     "metadata": {},
     "output_type": "execute_result"
    }
   ],
   "source": [
    "pl = []\n",
    "pl.append(0)\n",
    "for id, value in dfe.iterrows():\n",
    "    if id==0:\n",
    "        continue\n",
    "    a = (dfe.loc[id, 'Close Price']-dfe.loc[0, 'Close Price'])/dfe.loc[0, 'Close Price']*100\n",
    "    pl.append(a)\n",
    "dfe['Cumulative']=pl\n",
    "\n",
    "dfe.head()"
   ]
  },
  {
   "cell_type": "markdown",
   "metadata": {},
   "source": [
    "The following plot shows illustrates the cumulative return of the stock over the period of 494 days."
   ]
  },
  {
   "cell_type": "code",
   "execution_count": 53,
   "metadata": {},
   "outputs": [
    {
     "data": {
      "image/png": "[encoded data removed]",
      "text/plain": [
       "<Figure size 864x720 with 1 Axes>"
      ]
     },
     "metadata": {
      "needs_background": "light"
     },
     "output_type": "display_data"
    }
   ],
   "source": [
    "ax = dfe.plot(y='Cumulative',use_index=True,figsize=(12,10))\n",
    "ax.set_ylabel(\"Net cumulative return\")\n",
    "plt.show()"
   ]
  }
 ],
 "metadata": {
  "kernelspec": {
   "display_name": "Python 3",
   "language": "python",
   "name": "python3"
  },
  "language_info": {
   "codemirror_mode": {
    "name": "ipython",
    "version": 3
   },
   "file_extension": ".py",
   "mimetype": "text/x-python",
   "name": "python",
   "nbconvert_exporter": "python",
   "pygments_lexer": "ipython3",
   "version": "3.8.1"
  }
 },
 "nbformat": 4,
 "nbformat_minor": 4
}
